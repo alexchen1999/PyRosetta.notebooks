{
  "cells": [
    {
      "cell_type": "markdown",
      "metadata": {
        "id": "view-in-github",
        "colab_type": "text"
      },
      "source": [
        "<a href=\"https://colab.research.google.com/github/alexchen1999/PyRosetta.notebooks/blob/master/03_01_Score_Function_Basics.ipynb\" target=\"_parent\"><img src=\"https://colab.research.google.com/assets/colab-badge.svg\" alt=\"Open In Colab\"/></a>"
      ]
    },
    {
      "cell_type": "markdown",
      "metadata": {
        "id": "QhWZnqQRUlc1"
      },
      "source": [
        "Before you turn this problem in, make sure everything runs as expected. First, **restart the kernel** (in the menubar, select Kernel$\\rightarrow$Restart) and then **run all cells** (in the menubar, select Cell$\\rightarrow$Run All).\n",
        "\n",
        "Make sure you fill in any place that says `YOUR CODE HERE` or \"YOUR ANSWER HERE\", as well as your name and collaborators below:"
      ]
    },
    {
      "cell_type": "code",
      "execution_count": 42,
      "metadata": {
        "id": "xc2HZsjcUlc3"
      },
      "outputs": [],
      "source": [
        "NAME = \"Alex Chen\"\n",
        "COLLABORATORS = \"\""
      ]
    },
    {
      "cell_type": "markdown",
      "metadata": {
        "id": "qperORXBUlc4"
      },
      "source": [
        "---"
      ]
    },
    {
      "cell_type": "markdown",
      "metadata": {
        "id": "heu38oKcUlc4"
      },
      "source": [
        "<!--NOTEBOOK_HEADER-->\n",
        "*This notebook contains material from [PyRosetta](https://RosettaCommons.github.io/PyRosetta.notebooks);\n",
        "content is available [on Github](https://github.com/RosettaCommons/PyRosetta.notebooks.git).*"
      ]
    },
    {
      "cell_type": "markdown",
      "metadata": {
        "id": "y7F6vhetUlc5"
      },
      "source": [
        "<!--NAVIGATION-->\n",
        "< [Rosetta Energy Score Functions](http://nbviewer.jupyter.org/github/RosettaCommons/PyRosetta.notebooks/blob/master/notebooks/03.00-Rosetta-Energy-Score-Functions.ipynb) | [Contents](toc.ipynb) | [Index](index.ipynb) | [Practice: Analyzing energy between residues](http://nbviewer.jupyter.org/github/RosettaCommons/PyRosetta.notebooks/blob/master/notebooks/03.02-Analyzing-energy-between-residues.ipynb) ><p><a href=\"https://colab.research.google.com/github/RosettaCommons/PyRosetta.notebooks/blob/master/notebooks/03.01-Score-Function-Basics.ipynb\"><img align=\"left\" src=\"https://colab.research.google.com/assets/colab-badge.svg\" alt=\"Open in Colab\" title=\"Open in Google Colaboratory\"></a>"
      ]
    },
    {
      "cell_type": "markdown",
      "metadata": {
        "deletable": false,
        "editable": false,
        "nbgrader": {
          "cell_type": "markdown",
          "checksum": "c89eb5f9776b6d5cabbdd15abea6ad0b",
          "grade": false,
          "grade_id": "cell-eeaeae18e9d996eb",
          "locked": true,
          "schema_version": 3,
          "solution": false
        },
        "id": "Cei0SUFoUlc5"
      },
      "source": [
        "# Score Function Basics\n",
        "Keywords: score function, ScoreFunction(), get_score_function(), set_weight(), show(), etable_atom_pair_energies(), Atom objects, get_hbonds(), nhbonds(), residue_hbonds()"
      ]
    },
    {
      "cell_type": "code",
      "execution_count": 43,
      "metadata": {
        "colab": {
          "base_uri": "https://localhost:8080/"
        },
        "id": "kzvHAkXTUlc5",
        "outputId": "00bfd7b9-1417-4777-b8ec-ee0b53a21d2d"
      },
      "outputs": [
        {
          "output_type": "stream",
          "name": "stdout",
          "text": [
            "Requirement already satisfied: pyrosettacolabsetup in /usr/local/lib/python3.10/dist-packages (1.0.7)\n",
            "PyRosetta-4 2023 [Rosetta PyRosetta4.MinSizeRel.python310.ubuntu 2024.01+release.00b79147e63be743438188f93a3f069ca75106d6 2023-12-25T16:35:48] retrieved from: http://www.pyrosetta.org\n",
            "(C) Copyright Rosetta Commons Member Institutions. Created in JHU by Sergey Lyskov and PyRosetta Team.\n",
            "core.init: Checking for fconfig files in pwd and ./rosetta/flags\n",
            "core.init: Rosetta version: PyRosetta4.MinSizeRel.python310.ubuntu r366 2024.01+release.00b79147e63 00b79147e63be743438188f93a3f069ca75106d6 http://www.pyrosetta.org 2023-12-25T16:35:48\n",
            "core.init: command: PyRosetta -ex1 -ex2aro -database /usr/local/lib/python3.10/dist-packages/pyrosetta/database\n",
            "basic.random.init_random_generator: 'RNG device' seed mode, using '/dev/urandom', seed=567748288 seed_offset=0 real_seed=567748288\n",
            "basic.random.init_random_generator: RandomGenerator:init: Normal mode, seed=567748288 RG_type=mt19937\n",
            "PyRosetta-4 2023 [Rosetta PyRosetta4.MinSizeRel.python310.ubuntu 2024.01+release.00b79147e63be743438188f93a3f069ca75106d6 2023-12-25T16:35:48] retrieved from: http://www.pyrosetta.org\n",
            "(C) Copyright Rosetta Commons Member Institutions. Created in JHU by Sergey Lyskov and PyRosetta Team.\n",
            "core.init: Checking for fconfig files in pwd and ./rosetta/flags\n",
            "core.init: Rosetta version: PyRosetta4.MinSizeRel.python310.ubuntu r366 2024.01+release.00b79147e63 00b79147e63be743438188f93a3f069ca75106d6 http://www.pyrosetta.org 2023-12-25T16:35:48\n",
            "core.init: command: PyRosetta -ex1 -ex2aro -database /usr/local/lib/python3.10/dist-packages/pyrosetta/database\n",
            "basic.random.init_random_generator: 'RNG device' seed mode, using '/dev/urandom', seed=39338049 seed_offset=0 real_seed=39338049\n",
            "basic.random.init_random_generator: RandomGenerator:init: Normal mode, seed=39338049 RG_type=mt19937\n"
          ]
        }
      ],
      "source": [
        "!pip install pyrosettacolabsetup\n",
        "import pyrosettacolabsetup; pyrosettacolabsetup.install_pyrosetta()\n",
        "import pyrosetta; pyrosetta.init()\n",
        "import pyrosetta\n",
        "pyrosetta.init()"
      ]
    },
    {
      "cell_type": "markdown",
      "metadata": {
        "id": "sKYxnI_KUlc5"
      },
      "source": [
        "**Make sure you are in the directory with the pdb files:**\n",
        "\n",
        "`cd google_drive/MyDrive/student-notebooks/`"
      ]
    },
    {
      "cell_type": "markdown",
      "metadata": {
        "id": "aZCgkO2ZUlc5"
      },
      "source": [
        "In this module, we will explore the PyRosetta score function interface. You will learn to inspect energies of a biomolecule at the whole protein, per-residue, and per-atom level. Finally, you will gain practice applying the energies to answering biological questions involving proteins. For these exercises, we will use the protein Ras (PDB 6q21). Either make sure you have the PDB file \"6Q21_A.pdb\" in your current directory, or if you have an Internet connection, load the pdb into a pose called `ras` with the pyrosetta.pose_from_pdb method."
      ]
    },
    {
      "cell_type": "code",
      "source": [
        "from pyrosetta import *\n",
        "init()"
      ],
      "metadata": {
        "colab": {
          "base_uri": "https://localhost:8080/"
        },
        "id": "TmpLaaKchOcF",
        "outputId": "111310a6-52de-4305-cfed-17c1626f7f67"
      },
      "execution_count": 44,
      "outputs": [
        {
          "output_type": "stream",
          "name": "stdout",
          "text": [
            "PyRosetta-4 2023 [Rosetta PyRosetta4.MinSizeRel.python310.ubuntu 2024.01+release.00b79147e63be743438188f93a3f069ca75106d6 2023-12-25T16:35:48] retrieved from: http://www.pyrosetta.org\n",
            "(C) Copyright Rosetta Commons Member Institutions. Created in JHU by Sergey Lyskov and PyRosetta Team.\n",
            "core.init: Checking for fconfig files in pwd and ./rosetta/flags\n",
            "core.init: Rosetta version: PyRosetta4.MinSizeRel.python310.ubuntu r366 2024.01+release.00b79147e63 00b79147e63be743438188f93a3f069ca75106d6 http://www.pyrosetta.org 2023-12-25T16:35:48\n",
            "core.init: command: PyRosetta -ex1 -ex2aro -database /usr/local/lib/python3.10/dist-packages/pyrosetta/database\n",
            "basic.random.init_random_generator: 'RNG device' seed mode, using '/dev/urandom', seed=59766376 seed_offset=0 real_seed=59766376\n",
            "basic.random.init_random_generator: RandomGenerator:init: Normal mode, seed=59766376 RG_type=mt19937\n"
          ]
        }
      ]
    },
    {
      "cell_type": "code",
      "source": [
        "%cd /content/google_drive/MyDrive/Github/PyRosetta.notebooks/student-notebooks/"
      ],
      "metadata": {
        "colab": {
          "base_uri": "https://localhost:8080/"
        },
        "id": "k_AkXYv-hb0D",
        "outputId": "1ec50b65-e8d8-42f5-8c97-12e2971bf916"
      },
      "execution_count": 45,
      "outputs": [
        {
          "output_type": "stream",
          "name": "stdout",
          "text": [
            "/content/google_drive/MyDrive/Github/PyRosetta.notebooks/student-notebooks\n"
          ]
        }
      ]
    },
    {
      "cell_type": "code",
      "source": [
        "%ls"
      ],
      "metadata": {
        "colab": {
          "base_uri": "https://localhost:8080/"
        },
        "id": "SRBOthj1isgq",
        "outputId": "891ca943-4b63-4a10-baf7-8772b4b3dfa0"
      },
      "execution_count": 46,
      "outputs": [
        {
          "output_type": "stream",
          "name": "stdout",
          "text": [
            "01.00-How-to-Get-Started.ipynb\n",
            "01.01-How-to-Get-Local-PyRosetta.ipynb\n",
            "01.02-Notebooks-Python-Colab.ipynb\n",
            "01.03-FAQ.ipynb\n",
            "02.00-Introduction-to-PyRosetta.ipynb\n",
            "02.01-Pose-Basics.ipynb\n",
            "02.02-Working-with-Pose-Residues.ipynb\n",
            "02.03-Accessing-PyRosetta-Documentation.ipynb\n",
            "02.04-Getting-Spatial-Features-from-Pose.ipynb\n",
            "02.05-Protein-Geometry.ipynb\n",
            "02.06-Visualization-and-PyMOL-Mover.ipynb\n",
            "02.07-Visualization-and-PyMOL-Mover.PyRosetta-ColabPyMOL-integration.ipynb\n",
            "02.08-RosettaScripts-in-PyRosetta.ipynb\n",
            "02.09-Visualization-and-pyrosetta.distributed.viewer.ipynb\n",
            "03.00-Rosetta-Energy-Score-Functions.ipynb\n",
            "03.01-Score-Function-Basics.ipynb\n",
            "03.02-Analyzing-energy-between-residues.ipynb\n",
            "03.03-Energies-and-the-PyMOLMover.ipynb\n",
            "04.00-Introduction-to-Folding.ipynb\n",
            "04.01-Basic-Folding-Algorithm.ipynb\n",
            "04.02-Low-Res-Scoring-and-Fragments.ipynb\n",
            "05.00-Structure-Refinement.ipynb\n",
            "05.01-High-Res-Movers.ipynb\n",
            "05.02-Refinement-Protocol.ipynb\n",
            "06.00-Introduction-to-Packing-and-Design.ipynb\n",
            "06.01-Side-Chain-Conformations-and-Dunbrack-Energies.ipynb\n",
            "06.02-Packing-design-and-regional-relax.ipynb\n",
            "06.03-Design-with-a-resfile-and-relax.ipynb\n",
            "06.04-Protein-Design-2.ipynb\n",
            "06.05-HBNet-Before-Design.ipynb\n",
            "06.06-Introduction-to-Parametric-backbone-design.ipynb\n",
            "06.07-Introduction-to-DeNovo-protein-design.ipynb\n",
            "06.08-Point-Mutation-Scan.ipynb\n",
            "07.00-Protein-Docking.ipynb\n",
            "07.01-Fast-Fourier-Transform-Based-Docking-via-ZDOCK.ipynb\n",
            "07.02-Docking-Moves-in-Rosetta.ipynb\n",
            "08.00-Ligand-Docking-PyRosetta.ipynb\n",
            "08.01-Ligand-Docking-XMLObjects.ipynb\n",
            "08.02-Ligand-Docking-pyrosetta.distributed.ipynb\n",
            "09.00-Loop-Modeling.ipynb\n",
            "09.01-Using-Gen-KIC.ipynb\n",
            "10.00-Working-With-Symmetry.ipynb\n",
            "11.00-Working-With-Density.ipynb\n",
            "12.00-Working-With-Antibodies.ipynb\n",
            "12.01-RosettaAntibody-Framework-and-SimpleMetrics.ipynb\n",
            "12.02-RosettaAntibodyDesign-RAbD.ipynb\n",
            "13.00-RosettaCarbohydrates-Working-with-Glycans.ipynb\n",
            "13.01-Glycan-Trees-Selectors-and-Movers.ipynb\n",
            "13.02-Glycan-Modeling-and-Design.ipynb\n",
            "14.00-RNA-Basics.ipynb\n",
            "15.00-Modeling-Membrane-Proteins.ipynb\n",
            "15.01-Accounting-for-the-lipid-bilayer.ipynb\n",
            "15.02-Membrane-Protein-ddG-of-mutation.ipynb\n",
            "16.00-Running-PyRosetta-in-Parallel.ipynb\n",
            "16.01-PyData-ddG-pssm.ipynb\n",
            "16.02-PyData-miniprotein-design.ipynb\n",
            "16.03-GNU-Parallel-Via-Slurm.ipynb\n",
            "16.04-dask.delayed-Via-Slurm.ipynb\n",
            "16.05-Ligand-Docking-dask.ipynb\n",
            "16.06-PyRosettaCluster-Simple-protocol.ipynb\n",
            "16.07-PyRosettaCluster-Reproduce-simple-protocol.ipynb\n",
            "16.08-PyRosettaCluster-Multiple-protocols.ipynb\n",
            "16.09-PyRosettaCluster-Multiple-decoys.ipynb\n",
            "16.10-PyRosettaCluster-Ligand-params.ipynb\n",
            "A.00-Appendix-A.ipynb\n",
            "B.00-Appendix-B.ipynb\n",
            "C.00-Appendix-C.ipynb\n",
            "D.00-Appendix-D.ipynb\n",
            "\u001b[0m\u001b[01;34mexpected_outputs\u001b[0m/\n",
            "_index.ipynb\n",
            "\u001b[01;34minputs\u001b[0m/\n",
            "\u001b[01;34mMedia\u001b[0m/\n",
            "nbgrader_config.py\n",
            "_toc.ipynb\n"
          ]
        }
      ]
    },
    {
      "cell_type": "code",
      "execution_count": 47,
      "metadata": {
        "deletable": false,
        "nbgrader": {
          "cell_type": "code",
          "checksum": "8624e224b33292b579d9f743337eb9e2",
          "grade": true,
          "grade_id": "cell-be26a363af7b009c",
          "locked": false,
          "points": 0,
          "schema_version": 3,
          "solution": true
        },
        "colab": {
          "base_uri": "https://localhost:8080/"
        },
        "id": "qwFF0g8pUlc6",
        "outputId": "62e4e8fb-8ffa-43a5-e4a9-b52b15d4dec9"
      },
      "outputs": [
        {
          "output_type": "stream",
          "name": "stdout",
          "text": [
            "core.import_pose.import_pose: File 'inputs/6Q21_A.pdb' automatically determined to be of type PDB\n"
          ]
        }
      ],
      "source": [
        "# YOUR CODE HERE\n",
        "ras = pose_from_pdb('inputs/6Q21_A.pdb')"
      ]
    },
    {
      "cell_type": "markdown",
      "metadata": {
        "deletable": false,
        "editable": false,
        "nbgrader": {
          "cell_type": "markdown",
          "checksum": "fa643c83272b1075ade2fc98f989dec1",
          "grade": false,
          "grade_id": "cell-ed57c5745ba69a27",
          "locked": true,
          "schema_version": 3,
          "solution": false
        },
        "id": "yvOs3CmyUlc6"
      },
      "source": [
        "To score a protein, you will begin by defining a score function using the `get_score_function(is_fullatom: bool)` method in the `pyrosetta.teaching` namespace. Specifying `True` will return the default `ref2015` all-atom energy function, while `False` will specify the default centroid score function.\n",
        "\n",
        "Create a PyRosetta score function using:\n",
        "```\n",
        "sfxn = get_score_function(True)\n",
        "```"
      ]
    },
    {
      "cell_type": "code",
      "execution_count": 48,
      "metadata": {
        "deletable": false,
        "nbgrader": {
          "cell_type": "code",
          "checksum": "328490f1bf6bb9c3fc3605d7fb6c1cbb",
          "grade": true,
          "grade_id": "cell-a8401defb7b4a814",
          "locked": false,
          "points": 0,
          "schema_version": 3,
          "solution": true
        },
        "colab": {
          "base_uri": "https://localhost:8080/"
        },
        "id": "NrHUqgJtUlc6",
        "outputId": "204adf5b-e4e2-47bc-8dd0-ec09ec3d9710"
      },
      "outputs": [
        {
          "output_type": "stream",
          "name": "stdout",
          "text": [
            "core.scoring.ScoreFunctionFactory: SCOREFUNCTION: ref2015\n"
          ]
        }
      ],
      "source": [
        "from pyrosetta.teaching import *\n",
        "\n",
        "# YOUR CODE HERE\n",
        "sfxn = get_score_function(True)"
      ]
    },
    {
      "cell_type": "markdown",
      "metadata": {
        "deletable": false,
        "editable": false,
        "nbgrader": {
          "cell_type": "markdown",
          "checksum": "8e921b1ceb89e2bb7a17dd05b958b751",
          "grade": false,
          "grade_id": "cell-67b6769efaa385af",
          "locked": true,
          "schema_version": 3,
          "solution": false
        },
        "id": "ngnb4G5TUlc7"
      },
      "source": [
        "You can see the terms, weights, and energy method options by printing the score function:\n",
        "\n",
        "```\n",
        "print(sfxn)\n",
        "```"
      ]
    },
    {
      "cell_type": "code",
      "execution_count": 49,
      "metadata": {
        "deletable": false,
        "nbgrader": {
          "cell_type": "code",
          "checksum": "e793cabed84794d2c205604837f4bf52",
          "grade": true,
          "grade_id": "cell-d9875a1b051c6971",
          "locked": false,
          "points": 0,
          "schema_version": 3,
          "solution": true
        },
        "colab": {
          "base_uri": "https://localhost:8080/"
        },
        "id": "7pjN908BUlc7",
        "outputId": "564b6c1b-b06c-4f7f-85f2-69c34a0288c1"
      },
      "outputs": [
        {
          "output_type": "stream",
          "name": "stdout",
          "text": [
            "ScoreFunction::show():\n",
            "weights: (fa_atr 1) (fa_rep 0.55) (fa_sol 1) (fa_intra_rep 0.005) (fa_intra_sol_xover4 1) (lk_ball_wtd 1) (fa_elec 1) (pro_close 1.25) (hbond_sr_bb 1) (hbond_lr_bb 1) (hbond_bb_sc 1) (hbond_sc 1) (dslf_fa13 1.25) (omega 0.4) (fa_dun 0.7) (p_aa_pp 0.6) (yhh_planarity 0.625) (ref 1) (rama_prepro 0.45)\n",
            "energy_method_options: EnergyMethodOptions::show: aa_composition_setup_files: \n",
            "EnergyMethodOptions::show: mhc_epitope_setup_files: \n",
            "EnergyMethodOptions::show: netcharge_setup_files: \n",
            "EnergyMethodOptions::show: aspartimide_penalty_value: 25\n",
            "EnergyMethodOptions::show: etable_type: FA_STANDARD_DEFAULT\n",
            "analytic_etable_evaluation: 1\n",
            "EnergyMethodOptions::show: method_weights: ref 1.32468 3.25479 -2.14574 -2.72453 1.21829 0.79816 -0.30065 2.30374 -0.71458 1.66147 1.65735 -1.34026 -1.64321 -1.45095 -0.09474 -0.28969 1.15175 2.64269 2.26099 0.58223\n",
            "EnergyMethodOptions::show: method_weights: free_res\n",
            "EnergyMethodOptions::show: unfolded_energies_type: UNFOLDED_SCORE12\n",
            "EnergyMethodOptions::show: split_unfolded_label_type: SPLIT_UNFOLDED_MM\n",
            "EnergyMethodOptions::show: split_unfolded_value_type: SPLIT_UNFOLDED_BOLTZ\n",
            "EnergyMethodOptions::show: atom_vdw_atom_type_set_name: centroid\n",
            "EnergyMethodOptions::show: covalent_labeling_input: \n",
            "EnergyMethodOptions::show: covalent_labeling_fa_input: \n",
            "EnergyMethodOptions::show: hrf_dynamics_input: \n",
            "EnergyMethodOptions::show: depc_ms_input: \n",
            "EnergyMethodOptions::show: exclude_protein_protein_fa_elec: false\n",
            "EnergyMethodOptions::show: exclude_RNA_RNA_fa_elec: false\n",
            "EnergyMethodOptions::show: exclude_RNA_protein_fa_elec: false\n",
            "EnergyMethodOptions::show: exclude_monomer_fa_elec: false\n",
            "EnergyMethodOptions::show: elec_max_dis: 5.5\n",
            "EnergyMethodOptions::show: elec_min_dis: 1.6\n",
            "EnergyMethodOptions::show: elec_die: 10\n",
            "EnergyMethodOptions::show: elec_no_dis_dep_die: false\n",
            "EnergyMethodOptions::show: elec_sigmoidal_die: true\n",
            "EnergyMethodOptions::show: elec_sigmoidal_D: 80\n",
            "EnergyMethodOptions::show: elec_sigmoidal_D0: 6\n",
            "EnergyMethodOptions::show: elec_sigmoidal_S: 0.4\n",
            "EnergyMethodOptions::show: smooth_fa_elec: true\n",
            "EnergyMethodOptions::show: grpelec_fade_type: false\n",
            "EnergyMethodOptions::show: grpelec_fade_param1: 1\n",
            "EnergyMethodOptions::show: grpelec_fade_param2: 1\n",
            "EnergyMethodOptions::show: grpelec_fade_hbond: 0\n",
            "EnergyMethodOptions::show: grp_cpfxn: 1\n",
            "EnergyMethodOptions::show: elec_group_file: /scoring/score_functions/elec_group_def.dat\n",
            "EnergyMethodOptions::show: grpelec_context_dependent: 0\n",
            "EnergyMethodOptions::show: use_polarization: true\n",
            "EnergyMethodOptions::show: use_gen_kirkwood: true\n",
            "EnergyMethodOptions::show: protein_dielectric: 1\n",
            "EnergyMethodOptions::show: water_dielectric: 78.3\n",
            "EnergyMethodOptions::show: exclude_DNA_DNA: false\n",
            "EnergyMethodOptions::show: exclude_intra_res_protein: false\n",
            "EnergyMethodOptions::show: count_pair_hybrid: false\n",
            "EnergyMethodOptions::show: count_pair_full: false\n",
            "EnergyMethodOptions::show: put_intra_into_total: false\n",
            "EnergyMethodOptions::show: geom_sol_interres_path_distance_cutoff: false\n",
            "EnergyMethodOptions::show: geom_sol_intrares_path_distance_cutoff: true\n",
            "EnergyMethodOptions::show: eval_intrares_elec_ST_only: false\n",
            "EnergyMethodOptions::show: envsmooth_zero_negatives: false\n",
            "EnergyMethodOptions::show: cst_max_seq_sep: 18446744073709551615\n",
            "EnergyMethodOptions::show: pb_bound_tag: bound\n",
            "EnergyMethodOptions::show: pb_unbound_tag: unbound\n",
            "EnergyMethodOptions::show: arg_cation_pi_his_can_be_pi: 1\n",
            "EnergyMethodOptions::show: ordered_wat_penalty: 1.221\n",
            "EnergyMethodOptions::show: ordered_pt_wat_penalty: 2.709\n",
            "EnergyMethodOptions::show: nmer_ref_seq_length_: 9\n",
            "EnergyMethodOptions::show: nmer_svm_term_length_: 3\n",
            "EnergyMethodOptions::show: nmer_svm_pssm_feat_: 1\n",
            "EnergyMethodOptions::show: nmer_svm_scorecut_defined_: 0\n",
            "EnergyMethodOptions::show: nmer_svm_scorecut_: 0\n",
            "EnergyMethodOptions::show: nmer_svm_avg_rank_as_energy_: 0\n",
            "EnergyMethodOptions::show: nmer_svm_aa_matrix_defined_: 0\n",
            "EnergyMethodOptions::show: nmer_svm_aa_matrix_: \n",
            "EnergyMethodOptions::show: nmer_svm_list_defined_: 0\n",
            "EnergyMethodOptions::show: nmer_svm_list_: \n",
            "EnergyMethodOptions::show: nmer_svm_defined_: 0\n",
            "EnergyMethodOptions::show: nmer_svm_: \n",
            "EnergyMethodOptions::show: nmer_svm_rank_list_defined_: 0\n",
            "EnergyMethodOptions::show: nmer_svm_rank_list_: \n",
            "EnergyMethodOptions::show: nmer_svm_rank_defined_: 0\n",
            "EnergyMethodOptions::show: nmer_svm_rank_: \n",
            "EnergyMethodOptions::show: voids_penalty_energy_containing_cones_cutoff_:6\n",
            "EnergyMethodOptions::show: voids_penalty_energy_cone_distance_cutoff_: 8\n",
            "EnergyMethodOptions::show: voids_penalty_energy_cone_dotproduct_cutoff_: 0.1\n",
            "EnergyMethodOptions::show: voids_penalty_energy_voxel_grid_padding_: 1\n",
            "EnergyMethodOptions::show: voids_penalty_energy_voxel_size_: 0.5\n",
            "EnergyMethodOptions::show: voids_penalty_energy_disabled_except_during_packing_: TRUE\n",
            "EnergyMethodOptions::show: hbnet_bonus_ramping_function_: \"quadratic\"\n",
            "EnergyMethodOptions::show: hbnet_max_network_size_: 0\n",
            "EnergyMethodOptions::show: approximate_buried_unsat_penalty_hbond_energy_threshold_: -0.25\n",
            "EnergyMethodOptions::show: approximate_buried_unsat_penalty_burial_atomic_depth_: 4.5\n",
            "EnergyMethodOptions::show: approximate_buried_unsat_penalty_burial_probe_radius_: 2.3\n",
            "EnergyMethodOptions::show: approximate_buried_unsat_penalty_burial_resolution_: 0.5\n",
            "EnergyMethodOptions::show: approximate_buried_unsat_penalty_oversat_penalty_: 1\n",
            "EnergyMethodOptions::show: approximate_buried_unsat_penalty_assume_const_backbone_:1\n",
            "EnergyMethodOptions::show: approximate_buried_unsat_penalty_natural_corrections1_:0\n",
            "EnergyMethodOptions::show: approximate_buried_unsat_penalty_hbond_bonus_cross_chain_:0\n",
            "EnergyMethodOptions::show: approximate_buried_unsat_penalty_hbond_bonus_ser_to_helix_bb_:0\n",
            "EnergyMethodOptions::show: approximate_buried_unsat_penalty_lys_ok_with_1_:0\n",
            "EnergyMethodOptions::show: target_clash_pdb_:\n",
            "EnergyMethodOptions::show: dump_trajectory_prefix_: traj\n",
            "EnergyMethodOptions::show: dump_trajectory_gz_: FALSE\n",
            "EnergyMethodOptions::show: dump_trajectory_stride_: 1\n",
            "EnergyMethodOptions::show: bond_angle_central_atoms_to_score:\n",
            "EnergyMethodOptions::show: bond_angle_residue_type_param_set: none\n",
            "HBondOptions::show: hb_max_energy: 0\n",
            "HBondOptions::show: exclude_DNA_DNA: false\n",
            "HBondOptions::show: exclude_intra_res_protein_: false\n",
            "HBondOptions::show: exclude_intra_res_RNA_: false\n",
            "HBondOptions::show: put_intra_into_total_: false\n",
            "HBondOptions::show: exclude_self_hbonds: true\n",
            "HBondOptions::show: use_hb_env_dep: false\n",
            "HBondOptions::show: use_hb_env_dep_DNA: true\n",
            "HBondOptions::show: smooth_hb_env_dep: true\n",
            "HBondOptions::show: bb_donor_acceptor_check: true\n",
            "HBondOptions::show: decompose_bb_hb_into_pair_energies: false\n",
            "HBondOptions::show: params_database_tag_: ref2015_params\n",
            "HBondOptions::show: use_sp2_chi_penalty_: true\n",
            "HBondOptions::show: sp2_BAH180_rise_: 0.75\n",
            "HBondOptions::show: sp2_outer_width_: 0.357\n",
            "HBondOptions::show: measure_sp3acc_BAH_from_hvy_: true\n",
            "HBondOptions::show: fade_energy_: 1\n",
            "HBondOptions::show: exclude_ether_oxygens_: 0\n",
            "HBondOptions::show: Mbhbond: false \n",
            "HbondOptions::show: mphbond: false\n",
            "HBondOptions::show: hbond_energy_shift: 0\n",
            "HBondOptions::show: water_hybrid_sf: false\n",
            "RNA_EnergyMethodOptions::show: syn_G_potential_bonus: 0\n",
            "RNA_EnergyMethodOptions::show: torsion_potential: ps_04282011\n",
            "RNA_EnergyMethodOptions::show: suiteness_bonus: Richardson\n",
            "RNA_EnergyMethodOptions::show: rna_base_pair_xy_filename: scoring/rna/rna_base_pair_xy.dat\n",
            "FreeDOF_Options::show: free_suite_bonus: -1\n",
            "FreeDOF_Options::show: free_2HOprime_bonus: -0.5\n",
            "FreeDOF_Options::show: free_sugar_bonus: -1\n",
            "FreeDOF_Options::show: pack_phosphate_penalty: 0.25\n",
            "FreeDOF_Options::show: free_side_chain_bonus: -0.5\n",
            "\n",
            "\n"
          ]
        }
      ],
      "source": [
        "# YOUR CODE HERE\n",
        "print(sfxn)"
      ]
    },
    {
      "cell_type": "code",
      "source": [
        "type(sfxn)"
      ],
      "metadata": {
        "colab": {
          "base_uri": "https://localhost:8080/"
        },
        "id": "UbidxFBVjNnH",
        "outputId": "c5423d46-05b9-4714-97b5-30e35ca727ac"
      },
      "execution_count": 51,
      "outputs": [
        {
          "output_type": "execute_result",
          "data": {
            "text/plain": [
              "pyrosetta.rosetta.core.scoring.ScoreFunction"
            ]
          },
          "metadata": {},
          "execution_count": 51
        }
      ]
    },
    {
      "cell_type": "markdown",
      "metadata": {
        "deletable": false,
        "editable": false,
        "nbgrader": {
          "cell_type": "markdown",
          "checksum": "a8b9f964f0f6175fb9d6e18be295f256",
          "grade": false,
          "grade_id": "cell-5714b7bc994c3fe3",
          "locked": true,
          "schema_version": 3,
          "solution": false
        },
        "id": "iEy09JtfUlc7"
      },
      "source": [
        "## Practice: List the terms in the energy function and their relative weights\n",
        "\n",
        "**Hint:** look at the top line that starts with 'weights'"
      ]
    },
    {
      "cell_type": "code",
      "execution_count": 52,
      "metadata": {
        "deletable": false,
        "nbgrader": {
          "cell_type": "code",
          "checksum": "bbe491ab4f30d80962acb4037b159f7e",
          "grade": true,
          "grade_id": "cell-22ba33466d6eb287",
          "locked": false,
          "points": 0,
          "schema_version": 3,
          "solution": true
        },
        "colab": {
          "base_uri": "https://localhost:8080/"
        },
        "id": "QvoyWqVzUlc7",
        "outputId": "53947732-dc22-4a73-8164-390cb9e9621e"
      },
      "outputs": [
        {
          "output_type": "stream",
          "name": "stdout",
          "text": [
            "( fa_atr; 1) ( fa_rep; 0.55) ( fa_sol; 1) ( fa_intra_atr; 0) ( fa_intra_rep; 0.005) ( fa_intra_sol; 0) ( fa_intra_atr_xover4; 0) ( fa_intra_rep_xover4; 0) ( fa_intra_sol_xover4; 1) ( fa_intra_atr_nonprotein; 0) ( fa_intra_rep_nonprotein; 0) ( fa_intra_sol_nonprotein; 0) ( fa_intra_RNA_base_phos_atr; 0) ( fa_intra_RNA_base_phos_rep; 0) ( fa_intra_RNA_base_phos_sol; 0) ( fa_atr_dummy; 0) ( fa_rep_dummy; 0) ( fa_sol_dummy; 0) ( fa_vdw_tinker; 0) ( lk_hack; 0) ( lk_ball; 0) ( lk_ball_wtd; 1) ( lk_ball_iso; 0) ( lk_ball_bridge; 0) ( lk_ball_bridge_uncpl; 0) ( lk_dome; 0) ( lk_dome_iso; 0) ( lk_dome_bridge; 0) ( lk_dome_bridge_uncpl; 0) ( lk_ball_bridge2; 0) ( lk_ball_bridge_uncpl2; 0) ( lk_dome_pack; 0) ( coarse_fa_atr; 0) ( coarse_fa_rep; 0) ( coarse_fa_sol; 0) ( coarse_beadlj; 0) ( mm_lj_intra_rep; 0) ( mm_lj_intra_atr; 0) ( mm_lj_inter_rep; 0) ( mm_lj_inter_atr; 0) ( mm_twist; 0) ( mm_bend; 0) ( mm_stretch; 0) ( lk_costheta; 0) ( lk_polar; 0) ( lk_nonpolar; 0) ( lk_polar_intra_RNA; 0) ( lk_nonpolar_intra_RNA; 0) ( fa_elec; 1) ( fa_elec_bb_bb; 0) ( fa_elec_bb_sc; 0) ( fa_elec_sc_sc; 0) ( fa_intra_elec; 0) ( fa_imm_elec; 0) ( h2o_hbond; 0) ( dna_dr; 0) ( dna_bp; 0) ( dna_bs; 0) ( dna_ref; 0) ( peptide_bond; 0) ( pcs; 0) ( pcsTs1; 0) ( pcsTs2; 0) ( pcsTs3; 0) ( pcsTs4; 0) ( pcs2; 0) ( fastsaxs; 0) ( saxs_score; 0) ( saxs_cen_score; 0) ( saxs_fa_score; 0) ( pddf_score; 0) ( fiberdiffraction; 0) ( fiberdiffractiondens; 0) ( epr_deer_score; 0) ( fa_mbenv; 0) ( fa_mbsolv; 0) ( fa_elec_rna_phos_phos; 0) ( fa_elec_rna_phos_sugr; 0) ( fa_elec_rna_phos_base; 0) ( fa_elec_rna_sugr_sugr; 0) ( fa_elec_rna_sugr_base; 0) ( fa_elec_rna_base_base; 0) ( fa_elec_rna_phos_phos_fast; 0) ( fa_elec_rna_phos_sugr_fast; 0) ( fa_elec_rna_phos_base_fast; 0) ( fa_elec_rna_sugr_sugr_fast; 0) ( fa_elec_rna_sugr_base_fast; 0) ( fa_elec_rna_base_base_fast; 0) ( fa_elec_aro_aro; 0) ( fa_elec_aro_all; 0) ( hack_aro; 0) ( rna_fa_atr_base; 0) ( rna_fa_rep_base; 0) ( rna_data_backbone; 0) ( ch_bond; 0) ( ch_bond_bb_bb; 0) ( ch_bond_sc_sc; 0) ( ch_bond_bb_sc; 0) ( pro_close; 1.25) ( rama2b; 0) ( vdw; 0) ( cenpack; 0) ( cenpack_smooth; 0) ( cen_hb; 0) ( hybrid_vdw; 0) ( gauss; 0) ( rna_vdw; 0) ( rnp_vdw; 0) ( rna_base_backbone; 0) ( rna_backbone_backbone; 0) ( rna_repulsive; 0) ( rna_base_pair_pairwise; 0) ( rna_base_axis_pairwise; 0) ( rna_base_stagger_pairwise; 0) ( rna_base_stack_pairwise; 0) ( rna_base_stack_axis_pairwise; 0) ( rna_data_base; 0) ( rna_base_pair; 0) ( rna_base_axis; 0) ( rna_base_stagger; 0) ( rna_base_stack; 0) ( rna_base_stack_axis; 0) ( rnp_base_pair; 0) ( rnp_stack; 0) ( rnp_stack_xy; 0) ( rnp_pair; 0) ( rnp_pair_dist; 0) ( rnp_aa_to_rna_backbone; 0) ( rna_mg_point; 0) ( rna_mg_point_indirect; 0) ( mg; 0) ( mg_lig; 0) ( mg_sol; 0) ( mg_ref; 0) ( hoh_ref; 0) ( rna_torsion; 0) ( rna_torsion_sc; 0) ( rna_suite; 0) ( rna_jr_suite; 0) ( suiteness_bonus; 0) ( tna_suite; 0) ( rna_sugar_close; 0) ( fa_stack; 0) ( fa_stack_lower; 0) ( fa_stack_upper; 0) ( fa_stack_aro; 0) ( fa_stack_ext; 0) ( fa_stack_sol; 0) ( fa_stack_lr; 0) ( fa_stack_rna_protein; 0) ( fa_stack_rna_protein_aro; 0) ( ss_contact_worst; 0) ( stack_elec; 0) ( stack_elec_base_base; 0) ( stack_elec_base_bb; 0) ( alignment; 0) ( dna_bb_torsion; 0) ( dna_sugar_close; 0) ( dna_base_distance; 0) ( geom_sol_fast; 0) ( geom_sol_fast_intra_RNA; 0) ( fa_cust_pair_dist; 0) ( custom_atom_pair; 0) ( orbitals_hpol_bb; 0) ( pci_cation_pi; 0) ( pci_pi_pi; 0) ( pci_salt_bridge; 0) ( pci_hbond; 0) ( arg_cation_pi; 0) ( PyRosettaTwoBodyContextIndepenedentEnergy_first; 0) ( PyRosettaTwoBodyContextIndepenedentEnergy_171; 0) ( PyRosettaTwoBodyContextIndepenedentEnergy_172; 0) ( PyRosettaTwoBodyContextIndepenedentEnergy_173; 0) ( PyRosettaTwoBodyContextIndepenedentEnergy_174; 0) ( PyRosettaTwoBodyContextIndepenedentEnergy_175; 0) ( PyRosettaTwoBodyContextIndepenedentEnergy_176; 0) ( PyRosettaTwoBodyContextIndepenedentEnergy_177; 0) ( PyRosettaTwoBodyContextIndepenedentEnergy_178; 0) ( PyRosettaTwoBodyContextIndepenedentEnergy_179; 0) ( PyRosettaTwoBodyContextIndepenedentEnergy_last; 0) ( python; 0) ( fa_pair; 0) ( fa_pair_aro_aro; 0) ( fa_pair_aro_pol; 0) ( fa_pair_pol_pol; 0) ( hbond_sr_bb; 1) ( hbond_lr_bb; 1) ( hbond_bb_sc; 1) ( hbond_sr_bb_sc; 0) ( hbond_lr_bb_sc; 0) ( hbond_sc; 1) ( hbond_intra; 0) ( hbond_wat; 0) ( wat_entropy; 0) ( hbond; 0) ( npd_hbond_sr_bb; 0) ( npd_hbond_lr_bb; 0) ( npd_hbond_bb_sc; 0) ( npd_hbond_sr_bb_sc; 0) ( npd_hbond_lr_bb_sc; 0) ( npd_hbond_sc; 0) ( npd_hbond_intra; 0) ( npd_hbond; 0) ( fa_grpelec; 0) ( PyRosettaTwoBodyContextDependentEnergy_first; 0) ( PyRosettaTwoBodyContextDependentEnergy_206; 0) ( PyRosettaTwoBodyContextDependentEnergy_207; 0) ( PyRosettaTwoBodyContextDependentEnergy_208; 0) ( PyRosettaTwoBodyContextDependentEnergy_209; 0) ( PyRosettaTwoBodyContextDependentEnergy_210; 0) ( PyRosettaTwoBodyContextDependentEnergy_211; 0) ( PyRosettaTwoBodyContextDependentEnergy_212; 0) ( PyRosettaTwoBodyContextDependentEnergy_213; 0) ( PyRosettaTwoBodyContextDependentEnergy_214; 0) ( PyRosettaTwoBodyContextDependentEnergy_last; 0) ( interface_dd_pair; 0) ( geom_sol; 0) ( geom_sol_intra_RNA; 0) ( occ_sol_fitted; 0) ( occ_sol_fitted_onebody; 0) ( occ_sol_exact; 0) ( cen_rot_pair; 0) ( cen_rot_pair_ang; 0) ( cen_rot_pair_dih; 0) ( pair; 0) ( cen_pair_smooth; 0) ( Mpair; 0) ( mp_pair; 0) ( fa_mpsolv; 0) ( suck; 0) ( rna_rg; 0) ( rna_motif; 0) ( facts_elec; 0) ( facts_solv; 0) ( facts_sasa; 0) ( motif_dock; 0) ( pointwater; 0) ( goap; 0) ( goap_dist; 0) ( goap_angle; 0) ( approximate_buried_unsat_penalty; 0) ( interchain_pair; 0) ( interchain_vdw; 0) ( gb_elec; 0) ( multipole_elec; 0) ( fa_sasa; 0) ( dslf_ss_dst; 0) ( dslf_cs_ang; 0) ( dslf_ss_dih; 0) ( dslf_ca_dih; 0) ( dslf_cbs_ds; 0) ( dslf_fa13; 1.25) ( dslfc_cen_dst; 0) ( dslfc_cb_dst; 0) ( dslfc_ang; 0) ( dslfc_cb_dih; 0) ( dslfc_bb_dih; 0) ( dslfc_rot; 0) ( dslfc_trans; 0) ( dslfc_RT; 0) ( atom_pair_constraint; 0) ( base_pair_constraint; 0) ( coarse_chainbreak_constraint; 0) ( constant_constraint; 0) ( coordinate_constraint; 0) ( angle_constraint; 0) ( dihedral_constraint; 0) ( big_bin_constraint; 0) ( dunbrack_constraint; 0) ( site_constraint; 0) ( metalhash_constraint; 0) ( metalbinding_constraint; 0) ( rna_stub_coord_hack; 0) ( bond_geometry; 0) ( rna_bond_geometry; 0) ( Hpol_bond_geometry; 0) ( rama; 0) ( omega; 0.4) ( fa_dun; 0.7) ( fa_dun_dev; 0) ( fa_dun_rot; 0) ( fa_dun_semi; 0) ( cen_rot_dun; 0) ( dna_chi; 0) ( p_aa_pp; 0.6) ( p_aa_ss; 0) ( yhh_planarity; 0.625) ( hxl_tors; 0) ( h2o_intra; 0) ( ref; 1) ( ref_nc; 0) ( seqdep_ref; 0) ( nmer_ref; 0) ( nmer_pssm; 0) ( nmer_svm; 0) ( envsmooth; 0) ( e_pH; 0) ( rna_bulge; 0) ( dna_dihedral_bb; 0) ( dna_dihedral_chi; 0) ( dna_dihedral_sugar; 0) ( sugar_bb; 0) ( free_suite; 0) ( free_2HOprime; 0) ( free_side_chain; 0) ( free_base; 0) ( free_res; 0) ( free_dof; 0) ( intermol; 0) ( other_pose; 0) ( special_rot; 0) ( PB_elec; 0) ( cen_env_smooth; 0) ( cbeta_smooth; 0) ( cen_rot_env; 0) ( cen_rot_cbeta; 0) ( env; 0) ( cbeta; 0) ( DFIRE; 0) ( Menv; 0) ( Mcbeta; 0) ( Menv_non_helix; 0) ( Menv_termini; 0) ( Menv_tm_proj; 0) ( Mlipo; 0) ( rg; 0) ( rg_local; 0) ( co; 0) ( hs_pair; 0) ( ss_pair; 0) ( rsigma; 0) ( sheet; 0) ( burial_v2; 0) ( burial; 0) ( abego; 0) ( covalent_labeling; 0) ( covalent_labeling_fa; 0) ( hrf_ms_labeling; 0) ( hrf_dynamics; 0) ( ccs_imms; 0) ( depc_ms; 0) ( rnp_env; 0) ( loop_close; 0) ( missing_res; 0) ( mp_env; 0) ( mp_cbeta; 0) ( mp_lipo; 0) ( mp_termini; 0) ( mp_nonhelix; 0) ( mp_tmproj; 0) ( fa_mpenv; 0) ( fa_mpenv_smooth; 0) ( fa_water_to_bilayer; 0) ( f_elec_lipidlayer; 0) ( fa_mpasymEzCB; 0) ( fa_mpasymEzCG; 0) ( mp_res_lipo; 0) ( span_ins; 0) ( mp_span_ang; 0) ( mp_helicality; 0) ( natbias_ss; 0) ( natbias_hs; 0) ( natbias_hh; 0) ( natbias_stwist; 0) ( aa_cmp; 0) ( dock_ens_conf; 0) ( csa; 0) ( dc; 0) ( rdc; 0) ( rdc_segments; 0) ( rdc_rohl; 0) ( nmr_pcs; 0) ( nmr_rdc; 0) ( nmr_pre; 0) ( cen_pair_motifs; 0) ( cen_pair_motif_degree; 0) ( holes; 0) ( holes_decoy; 0) ( holes_resl; 0) ( holes_min; 0) ( holes_min_mean; 0) ( rna_chem_shift; 0) ( rna_chem_map; 0) ( rna_chem_map_lores; 0) ( rna_partition; 0) ( dab_sasa; 0) ( dab_sev; 0) ( sa; 0) ( d2h_sa; 0) ( ProQM; 0) ( ProQ; 0) ( interchain_env; 0) ( interchain_contact; 0) ( chainbreak; 0) ( linear_chainbreak; 0) ( overlap_chainbreak; 0) ( distance_chainbreak; 0) ( dof_constraint; 0) ( branch_conn; 0) ( linear_branch_conn; 0) ( rama_prepro; 0.45) ( paa_abego3; 0) ( cart_bonded; 0) ( cart_bonded_angle; 0) ( cart_bonded_length; 0) ( cart_bonded_ring; 0) ( cart_bonded_torsion; 0) ( cart_bonded_proper; 0) ( cart_bonded_improper; 0) ( gen_bonded; 0) ( gen_bonded_bond; 0) ( gen_bonded_angle; 0) ( gen_bonded_torsion; 0) ( gen_bonded_improper; 0) ( neigh_vect; 0) ( neigh_count; 0) ( neigh_vect_raw; 0) ( symE_bonus; 0) ( sym_lig; 0) ( mhc_epitope; 0) ( pack_stat; 0) ( rms_energy; 0) ( res_type_constraint; 0) ( res_type_linking_constraint; 0) ( pocket_constraint; 0) ( backbone_stub_constraint; 0) ( backbone_stub_linear_constraint; 0) ( surface; 0) ( p_aa; 0) ( unfolded; 0) ( split_unfolded_two_body; 0) ( fa_atr_ref; 0) ( fa_rep_ref; 0) ( fa_sol_ref; 0) ( fa_elec_ref; 0) ( hbond_ref; 0) ( dslf_fa13_ref; 0) ( fa_intra_atr_ref; 0) ( fa_intra_rep_ref; 0) ( fa_intra_sol_ref; 0) ( pro_close_ref; 0) ( fa_dun_ref; 0) ( fa_dun_dev_ref; 0) ( fa_dun_rot_ref; 0) ( fa_dun_semi_ref; 0) ( rama_ref; 0) ( p_aa_pp_ref; 0) ( omega_ref; 0) ( mm_lj_intra_rep_ref; 0) ( mm_lj_intra_atr_ref; 0) ( mm_twist_ref; 0) ( elec_dens_fast; 0) ( elec_dens_window; 0) ( elec_dens_whole_structure_ca; 0) ( elec_dens_whole_structure_allatom; 0) ( elec_dens_atomwise; 0) ( grid_vdw; 0) ( xtal_ml; 0) ( xtal_rwork; 0) ( xtal_rfree; 0) ( hpatch; 0) ( Menv_smooth; 0) ( wat_desolv; 0) ( ring_close; 0) ( aa_repeat; 0) ( aa_composition; 0) ( aspartimide_penalty; 0) ( hbnet; 0) ( buried_unsatisfied_penalty; 0) ( netcharge; 0) ( voids_penalty; 0) ( sap_constraint; 0) ( dna_env; 0) ( dna_pair; 0) ( dump_trajectory; 0) ( PyRosettaEnergy_first; 0) ( PyRosettaEnergy_477; 0) ( PyRosettaEnergy_478; 0) ( PyRosettaEnergy_479; 0) ( PyRosettaEnergy_480; 0) ( PyRosettaEnergy_481; 0) ( PyRosettaEnergy_482; 0) ( PyRosettaEnergy_483; 0) ( PyRosettaEnergy_484; 0) ( PyRosettaEnergy_485; 0) ( PyRosettaEnergy_last; 0) ( sidechain_neighbors; 0) ( target_clash; 0) ( membrane_span_constraint; 0) ( membrane_span_term_z_constraint; 0) ( aromatic_restraint; 0) ( rna_coarse_dist; 0) ( total_score; 0) ( dummy_score_type; 0) \n"
          ]
        }
      ],
      "source": [
        "## Your Response Here\n",
        "\n",
        "# YOUR CODE HERE\n",
        "print(sfxn.weights())\n",
        "\n",
        "# Total energy is a weighted sum of the individual terms"
      ]
    },
    {
      "cell_type": "markdown",
      "metadata": {
        "id": "gMDASC26Ulc8"
      },
      "source": [
        "## Custom energy functions"
      ]
    },
    {
      "cell_type": "markdown",
      "metadata": {
        "deletable": false,
        "editable": false,
        "nbgrader": {
          "cell_type": "markdown",
          "checksum": "6715f2735e589ad8a4c346d3661fcd4a",
          "grade": false,
          "grade_id": "cell-9c06a7c877210a94",
          "locked": true,
          "schema_version": 3,
          "solution": false
        },
        "id": "jpzt6AHAUlc8"
      },
      "source": [
        "You can also create a custom energy function that includes select terms. Typically, creating a whole new score function is unneccesary because the current one works well in most cases. However, tweaking the current enrgy function by reassigning weights and adding certain energy terms can be useful.\n",
        "\n",
        "Here, we will make an example energy function with only the van der Waals attractive and repulsive terms, both with weights of 1. We need to use the `set_weight()`. Make a new `ScoreFunction` and set the weights accordingly. This is how we set the full-atom attractive (`fa_atr`) and the full-atom repulsive (`fa_rep`) terms.\n",
        "\n",
        "```\n",
        "sfxn2 = ScoreFunction()\n",
        "sfxn2.set_weight(fa_atr, 1.0)\n",
        "sfxn2.set_weight(fa_rep, 1.0)\n",
        "```"
      ]
    },
    {
      "cell_type": "code",
      "execution_count": 53,
      "metadata": {
        "deletable": false,
        "nbgrader": {
          "cell_type": "code",
          "checksum": "d5a4cc23973c3913c6fc09e6bcc93934",
          "grade": true,
          "grade_id": "cell-c4c5c8d7de03487d",
          "locked": false,
          "points": 0,
          "schema_version": 3,
          "solution": true
        },
        "id": "4kw7hlEGUlc8"
      },
      "outputs": [],
      "source": [
        "# YOUR CODE HERE\n",
        "sfxn2 = ScoreFunction()\n",
        "sfxn2.set_weight(fa_atr, 1.0) # attractive term for VDW\n",
        "sfxn2.set_weight(fa_rep, 1.0) # repulsive term for VDW"
      ]
    },
    {
      "cell_type": "markdown",
      "metadata": {
        "deletable": false,
        "editable": false,
        "nbgrader": {
          "cell_type": "markdown",
          "checksum": "975c15f8bca2e6102dda4d88beb62085",
          "grade": false,
          "grade_id": "cell-951446e04ce45937",
          "locked": true,
          "schema_version": 3,
          "solution": false
        },
        "id": "Sea0wj93Ulc8"
      },
      "source": [
        "Lets compare the score of `ras` using the full-atom `ScoreFunction` versus the `ScoreFunction` we made above using only the attractive and repulsive terms.\n",
        "\n",
        "First, print the total energy of `ras` using `print(sfxn(ras))`\n",
        "Then, print the attractive and repulsive energy only of `ras` using `print(sfxn2(ras))`"
      ]
    },
    {
      "cell_type": "code",
      "execution_count": 54,
      "metadata": {
        "deletable": false,
        "nbgrader": {
          "cell_type": "code",
          "checksum": "5257f9fe320267a5e7eb764a7930eb1e",
          "grade": true,
          "grade_id": "cell-7013e0c60ab37e65",
          "locked": false,
          "points": 0,
          "schema_version": 3,
          "solution": true
        },
        "colab": {
          "base_uri": "https://localhost:8080/"
        },
        "id": "XZ5c3zv6Ulc8",
        "outputId": "6a26e270-9c60-4496-9f77-34b1b4e8e9a7"
      },
      "outputs": [
        {
          "output_type": "stream",
          "name": "stdout",
          "text": [
            "1215.7290700424\n",
            "154.59159174026854\n"
          ]
        }
      ],
      "source": [
        "# print total energy of ras\n",
        "# YOUR CODE HERE\n",
        "print(sfxn(ras))\n",
        "\n",
        "# print the attractive and repulsive energy of ras\n",
        "# YOUR CODE HERE\n",
        "print(sfxn2(ras))"
      ]
    },
    {
      "cell_type": "markdown",
      "metadata": {
        "id": "C0EaiNy5Ulc9"
      },
      "source": [
        "## Energy Breakdown"
      ]
    },
    {
      "cell_type": "markdown",
      "metadata": {
        "deletable": false,
        "editable": false,
        "nbgrader": {
          "cell_type": "markdown",
          "checksum": "93b04a3da53f917be441c7f1dc7b1bc0",
          "grade": false,
          "grade_id": "cell-952b996905b5bfc0",
          "locked": true,
          "schema_version": 3,
          "solution": false
        },
        "id": "vY5GCkxmUlc9"
      },
      "source": [
        "Using the full-atom `ScoreFunction` `sfxn`, break the energy of `ras` down into its individual pieces with the `sfxn.show(ras)` method. Which are the three most dominant contributions, and what are their values? Is this what you would have expected? Why? Note which terms are positive and negative"
      ]
    },
    {
      "cell_type": "code",
      "execution_count": 55,
      "metadata": {
        "deletable": false,
        "nbgrader": {
          "cell_type": "code",
          "checksum": "d85657d8e29552b8d01d7f4d02eea8dc",
          "grade": true,
          "grade_id": "cell-1985d733350b2c83",
          "locked": false,
          "points": 0,
          "schema_version": 3,
          "solution": true
        },
        "colab": {
          "base_uri": "https://localhost:8080/"
        },
        "id": "4r_zAl2cUlc9",
        "outputId": "b9a7633c-d6ed-4cfd-c146-ce1ca4a301e1"
      },
      "outputs": [
        {
          "output_type": "stream",
          "name": "stdout",
          "text": [
            "core.scoring.ScoreFunction: \n",
            "------------------------------------------------------------\n",
            " Scores                       Weight   Raw Score Wghtd.Score\n",
            "------------------------------------------------------------\n",
            " fa_atr                       1.000   -1039.246   -1039.246\n",
            " fa_rep                       0.550    1193.837     656.611\n",
            " fa_sol                       1.000     682.582     682.582\n",
            " fa_intra_rep                 0.005     700.419       3.502\n",
            " fa_intra_sol_xover4          1.000      46.564      46.564\n",
            " lk_ball_wtd                  1.000     -14.597     -14.597\n",
            " fa_elec                      1.000    -195.387    -195.387\n",
            " pro_close                    1.250      97.210     121.513\n",
            " hbond_sr_bb                  1.000     -41.656     -41.656\n",
            " hbond_lr_bb                  1.000     -28.352     -28.352\n",
            " hbond_bb_sc                  1.000     -13.111     -13.111\n",
            " hbond_sc                     1.000      -7.771      -7.771\n",
            " dslf_fa13                    1.250       0.000       0.000\n",
            " omega                        0.400      41.525      16.610\n",
            " fa_dun                       0.700    1296.642     907.650\n",
            " p_aa_pp                      0.600     -25.496     -15.298\n",
            " yhh_planarity                0.625       0.000       0.000\n",
            " ref                          1.000      47.114      47.114\n",
            " rama_prepro                  0.450     197.781      89.002\n",
            "---------------------------------------------------\n",
            " Total weighted score:                     1215.729\n"
          ]
        }
      ],
      "source": [
        "# use the sfxn.show() method\n",
        "# YOUR CODE HERE\n",
        "sfxn.show(ras)"
      ]
    },
    {
      "cell_type": "code",
      "execution_count": null,
      "metadata": {
        "code_folding": [],
        "deletable": false,
        "editable": false,
        "nbgrader": {
          "cell_type": "code",
          "checksum": "e5f67c4a806a5ac514dbc014dc1f720a",
          "grade": false,
          "grade_id": "cell-4ad3a4c661b9a763",
          "locked": true,
          "schema_version": 3,
          "solution": false
        },
        "id": "2k9M_AIlUlc9"
      },
      "outputs": [],
      "source": [
        "# Your response here: what are the three most dominant contributions?\n",
        "# fa_dun, fa_sol, fa_rep"
      ]
    },
    {
      "cell_type": "markdown",
      "metadata": {
        "deletable": false,
        "editable": false,
        "nbgrader": {
          "cell_type": "markdown",
          "checksum": "4dd005ae5ba2ab4da7ed844e659a32c1",
          "grade": false,
          "grade_id": "cell-dfa8632eb3d02079",
          "locked": true,
          "schema_version": 3,
          "solution": false
        },
        "id": "tSlpOawIUlc9"
      },
      "source": [
        "Unweighted, individual component energies of each residue in a structure are stored in the `Pose` object and can be accessed by the `energies()` method. For example, to break down the energy into each residue's contribution, we use:\n",
        "```\n",
        "print(ras.energies().show(<n>))\n",
        "```\n",
        "Where `<n>` is the residue number.\n",
        "\n",
        "What are the total van der Waals, solvation, and hydrogen-bonding contributions of residue 24?\n",
        "\n",
        "Note: The _backbone_ hydrogen-bonding terms for each residue are not available from the `Energies` object. You can get them by using EnergyMethodOptions. See http://www.pyrosetta.org/documentation#TOC-Hydrogen-Bonds-and-Hydrogen-Bond-Scoring."
      ]
    },
    {
      "cell_type": "code",
      "execution_count": 56,
      "metadata": {
        "deletable": false,
        "nbgrader": {
          "cell_type": "code",
          "checksum": "b23fb9ecb7c8501235b5a54cc0567a0c",
          "grade": true,
          "grade_id": "cell-cd5175f1ed3fd0ad",
          "locked": false,
          "points": 0,
          "schema_version": 3,
          "solution": true
        },
        "colab": {
          "base_uri": "https://localhost:8080/"
        },
        "id": "e3gIX6fVUlc9",
        "outputId": "3741d166-f1ca-4d09-ea79-ee3a5f371061"
      },
      "outputs": [
        {
          "output_type": "stream",
          "name": "stdout",
          "text": [
            "core.scoring.Energies: E               fa_atr        fa_rep        fa_sol  fa_intra_repfa_intra_sol_x   lk_ball_wtd       fa_elec     pro_close   hbond_sr_bb   hbond_lr_bb   hbond_bb_sc      hbond_sc     dslf_fa13         omega        fa_dun       p_aa_pp yhh_planarity           ref   rama_prepro\n",
            "core.scoring.Energies: E(i)  24         -7.40         19.03          2.94          8.76          0.09         -0.11         -0.56          0.00          0.00          0.00          0.00          0.00          0.00          0.12          2.68          0.06          0.00          2.30          3.58\n",
            "None\n"
          ]
        }
      ],
      "source": [
        "# YOUR CODE HERE\n",
        "print(ras.energies().show(24))"
      ]
    },
    {
      "cell_type": "code",
      "execution_count": 68,
      "metadata": {
        "deletable": false,
        "editable": false,
        "nbgrader": {
          "cell_type": "code",
          "checksum": "5d6e21483aecadac4cdb91f9b8685f13",
          "grade": false,
          "grade_id": "cell-910b1116d1d0becf",
          "locked": true,
          "schema_version": 3,
          "solution": false
        },
        "colab": {
          "base_uri": "https://localhost:8080/"
        },
        "id": "aF-CchzOUlc9",
        "outputId": "2d3bc7d5-cbff-40a1-f2cf-20dce46f4a2c"
      },
      "outputs": [
        {
          "output_type": "stream",
          "name": "stdout",
          "text": [
            "11.629883231989364\n",
            "0.0\n"
          ]
        },
        {
          "output_type": "execute_result",
          "data": {
            "text/plain": [
              "2.936411832424036"
            ]
          },
          "metadata": {},
          "execution_count": 68
        }
      ],
      "source": [
        "# your response here\n",
        "\n",
        "# Reference: https://graylab.jhu.edu/pyrosetta/downloads/documentation/PyRosetta_Manual.pdf\n",
        "\n",
        "# Rosetta full-atom scoring functions:\n",
        "\n",
        "# Van der waals total energy: fa_atr + fa_rep\n",
        "print(ras.energies().residue_total_energies(24)[fa_atr] + ras.energies().residue_total_energies(24)[fa_rep]) # Not in str quotes\n",
        "\n",
        "# Hydrogen bonds: short and long range, backbone (bb) and side-chain (sc)\n",
        "print(ras.energies().residue_total_energies(24)[hbond_sr_bb] + ras.energies().residue_total_energies(24)[hbond_lr_bb]\n",
        "      + ras.energies().residue_total_energies(24)[hbond_bb_sc] + ras.energies().residue_total_energies(24)[hbond_sc])\n",
        "\n",
        "# Solvation: Lazaridus-Karplus\n",
        "ras.energies().residue_total_energies(24)[fa_sol]"
      ]
    },
    {
      "cell_type": "markdown",
      "metadata": {
        "deletable": false,
        "editable": false,
        "nbgrader": {
          "cell_type": "markdown",
          "checksum": "f71d7469a99f6552564f4d1805ba1bc8",
          "grade": false,
          "grade_id": "cell-4832aeb37f36c0c6",
          "locked": true,
          "schema_version": 3,
          "solution": false
        },
        "id": "VKQEBUsRUlc-"
      },
      "source": [
        "The van der Waals, solvation, and electrostatic terms are atom-atom pairwise energies calculated from a pre-tabulated lookup table, dependent upon the distance between the two atoms and their types. You can access this lookup table, called the `etable` directly to check these energy calculations on an atom-by-atom basis. Use the `etable_atom_pair_energies` function which returns a triplet of energies for attractive, repulsive and solvation scores.\n",
        "\n",
        "(Note that the `etable_atom_pair_energies()` function requires `Atom` objects, not the `AtomID` objects we saw in Workshop #2. For more info, look at the [documentation](https://graylab.jhu.edu/PyRosetta.documentation/pyrosetta.toolbox.atom_pair_energy.html?highlight=etable_atom_pair_energies#pyrosetta.toolbox.atom_pair_energy.etable_atom_pair_energies).)\n",
        "\n",
        "**Practice:** What are the attractive, repulsive, solvation, and electrostatic components between the nitrogen of residue 24 and the oxygen of residue 20?\n"
      ]
    },
    {
      "cell_type": "code",
      "execution_count": 74,
      "metadata": {
        "deletable": false,
        "nbgrader": {
          "cell_type": "code",
          "checksum": "8c61d70270f52e1a933d45656832b8e3",
          "grade": true,
          "grade_id": "cell-7ce1bc99f2fd0b00",
          "locked": false,
          "points": 0,
          "schema_version": 3,
          "solution": true
        },
        "colab": {
          "base_uri": "https://localhost:8080/"
        },
        "id": "gqnKydZpUlc-",
        "outputId": "781ac0f9-1184-4e29-c4d3-13f6b27108df"
      },
      "outputs": [
        {
          "output_type": "stream",
          "name": "stdout",
          "text": [
            "1\n",
            "4\n",
            "(-0.1505855046001568, 0.0, 0.5903452111877214, 2.173111777247698)\n"
          ]
        }
      ],
      "source": [
        "# YOUR CODE HERE\n",
        "\n",
        "# Reference: https://graylab.jhu.edu/PyRosetta.documentation/pyrosetta.toolbox.atom_pair_energy.html#pyrosetta.toolbox.atom_pair_energy.etable_atom_pair_energies\n",
        "\n",
        "# Returns:\n",
        "  # tuple: values of the lj_atr, lj_rep, fa_solv, and fa_elec potentials.\n",
        "\n",
        "# Atom index, nitrogen of residue 24\n",
        "print(ras.residue(24).atom_index('N'))\n",
        "\n",
        "# Atom index, oxygen of residue 20\n",
        "print(ras.residue(20).atom_index('O'))\n",
        "\n",
        "# Pairwise atom-atom energies\n",
        "print(etable_atom_pair_energies(ras.residue(24), 1, ras.residue(20), 4, sfxn))"
      ]
    },
    {
      "cell_type": "markdown",
      "metadata": {
        "id": "8CGI1H2_Ulc-"
      },
      "source": [
        "<!--NAVIGATION-->\n",
        "< [Rosetta Energy Score Functions](http://nbviewer.jupyter.org/github/RosettaCommons/PyRosetta.notebooks/blob/master/notebooks/03.00-Rosetta-Energy-Score-Functions.ipynb) | [Contents](toc.ipynb) | [Index](index.ipynb) | [Practice: Analyzing energy between residues](http://nbviewer.jupyter.org/github/RosettaCommons/PyRosetta.notebooks/blob/master/notebooks/03.02-Analyzing-energy-between-residues.ipynb) ><p><a href=\"https://colab.research.google.com/github/RosettaCommons/PyRosetta.notebooks/blob/master/notebooks/03.01-Score-Function-Basics.ipynb\"><img align=\"left\" src=\"https://colab.research.google.com/assets/colab-badge.svg\" alt=\"Open in Colab\" title=\"Open in Google Colaboratory\"></a>"
      ]
    }
  ],
  "metadata": {
    "kernelspec": {
      "display_name": "Python 3",
      "language": "python",
      "name": "python3"
    },
    "language_info": {
      "codemirror_mode": {
        "name": "ipython",
        "version": 3
      },
      "file_extension": ".py",
      "mimetype": "text/x-python",
      "name": "python",
      "nbconvert_exporter": "python",
      "pygments_lexer": "ipython3",
      "version": "3.6.0"
    },
    "toc": {
      "base_numbering": 1,
      "nav_menu": {},
      "number_sections": true,
      "sideBar": true,
      "skip_h1_title": false,
      "title_cell": "Table of Contents",
      "title_sidebar": "Contents",
      "toc_cell": false,
      "toc_position": {
        "height": "503.333px",
        "left": "207px",
        "top": "151.722px",
        "width": "254.167px"
      },
      "toc_section_display": true,
      "toc_window_display": true
    },
    "colab": {
      "provenance": [],
      "include_colab_link": true
    }
  },
  "nbformat": 4,
  "nbformat_minor": 0
}
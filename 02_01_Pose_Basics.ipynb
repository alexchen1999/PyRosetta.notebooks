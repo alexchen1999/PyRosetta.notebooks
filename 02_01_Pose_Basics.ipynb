{
  "cells": [
    {
      "cell_type": "markdown",
      "metadata": {
        "id": "view-in-github",
        "colab_type": "text"
      },
      "source": [
        "<a href=\"https://colab.research.google.com/github/alexchen1999/PyRosetta.notebooks/blob/master/02_01_Pose_Basics.ipynb\" target=\"_parent\"><img src=\"https://colab.research.google.com/assets/colab-badge.svg\" alt=\"Open In Colab\"/></a>"
      ]
    },
    {
      "cell_type": "markdown",
      "metadata": {
        "id": "LacuL1xC1fbC"
      },
      "source": [
        "Before you turn this problem in, make sure everything runs as expected. First, **restart the kernel** (in the menubar, select Kernel$\\rightarrow$Restart) and then **run all cells** (in the menubar, select Cell$\\rightarrow$Run All).\n",
        "\n",
        "Make sure you fill in any place that says `YOUR CODE HERE` or \"YOUR ANSWER HERE\", as well as your name and collaborators below:"
      ]
    },
    {
      "cell_type": "code",
      "execution_count": null,
      "metadata": {
        "id": "kTyKE51R1fbG"
      },
      "outputs": [],
      "source": [
        "NAME = \"\"\n",
        "COLLABORATORS = \"\""
      ]
    },
    {
      "cell_type": "markdown",
      "metadata": {
        "id": "GkRCB7j41fbH"
      },
      "source": [
        "---"
      ]
    },
    {
      "cell_type": "markdown",
      "metadata": {
        "id": "CEgSiO5Q1fbH"
      },
      "source": [
        "<!--NOTEBOOK_HEADER-->\n",
        "*This notebook contains material from [PyRosetta](https://RosettaCommons.github.io/PyRosetta.notebooks);\n",
        "content is available [on Github](https://github.com/RosettaCommons/PyRosetta.notebooks.git).*"
      ]
    },
    {
      "cell_type": "markdown",
      "metadata": {
        "id": "abkAX1fZ1fbH"
      },
      "source": [
        "<!--NAVIGATION-->\n",
        "< [Introduction to PyRosetta](http://nbviewer.jupyter.org/github/RosettaCommons/PyRosetta.notebooks/blob/master/notebooks/02.00-Introduction-to-PyRosetta.ipynb) | [Contents](toc.ipynb) | [Index](index.ipynb) | [Working with Pose residues](http://nbviewer.jupyter.org/github/RosettaCommons/PyRosetta.notebooks/blob/master/notebooks/02.02-Working-with-Pose-Residues.ipynb) ><p><a href=\"https://colab.research.google.com/github/RosettaCommons/PyRosetta.notebooks/blob/master/notebooks/02.01-Pose-Basics.ipynb\"><img align=\"left\" src=\"https://colab.research.google.com/assets/colab-badge.svg\" alt=\"Open in Colab\" title=\"Open in Google Colaboratory\"></a>"
      ]
    },
    {
      "cell_type": "markdown",
      "metadata": {
        "id": "y7G5XPqO1fbI"
      },
      "source": [
        "# Pose Basics\n",
        "Keywords: pose_from_pdb(), sequence(), cleanATOM, annotated_sequence()"
      ]
    },
    {
      "cell_type": "markdown",
      "metadata": {
        "id": "58GTVifG1fbI"
      },
      "source": [
        "In this lab, we will get practice working with the `Pose` class in PyRosetta. We will load in a protein from a PDB files, use the `Pose` class to learn about the geometry of the protein, make changes to this geometry, and visualize the changes easily with `PyMOL` and PyRosetta's `PyMOLMover`.\n",
        "\n",
        "On the corresponding `Pose` lab found on the PyRosetta website, you will find various useful commands to interrogate poses; these may come in handy for the exercises.\n",
        "\n",
        "**PyRosetta Installation:**\n",
        "The following two lines will load in the PyRosetta library and load in database files. If this does not work, please notify the professor or the TA."
      ]
    },
    {
      "cell_type": "code",
      "execution_count": 1,
      "metadata": {
        "colab": {
          "base_uri": "https://localhost:8080/"
        },
        "id": "4i1K5Auh1fbI",
        "outputId": "034c7c1d-3e3f-490c-d1bb-b3b889428608"
      },
      "outputs": [
        {
          "output_type": "stream",
          "name": "stdout",
          "text": [
            "Collecting pyrosettacolabsetup\n",
            "  Downloading pyrosettacolabsetup-1.0.7-py3-none-any.whl (4.8 kB)\n",
            "Installing collected packages: pyrosettacolabsetup\n",
            "Successfully installed pyrosettacolabsetup-1.0.7\n",
            "Mounted at /content/google_drive\n",
            "Looking for compatible PyRosetta wheel file at google-drive/PyRosetta/colab.bin//wheels...\n",
            "Found compatible wheel: /content/google_drive/MyDrive/PyRosetta/colab.bin/wheels//content/google_drive/MyDrive/PyRosetta/colab.bin/wheels/pyrosetta-2024.1+release.00b79147e63-cp310-cp310-linux_x86_64.whl\n",
            "\n",
            "\n",
            "PyRosetta-4 2023 [Rosetta PyRosetta4.MinSizeRel.python310.ubuntu 2024.01+release.00b79147e63be743438188f93a3f069ca75106d6 2023-12-25T16:35:48] retrieved from: http://www.pyrosetta.org\n",
            "(C) Copyright Rosetta Commons Member Institutions. Created in JHU by Sergey Lyskov and PyRosetta Team.\n",
            "core.init: Checking for fconfig files in pwd and ./rosetta/flags\n",
            "core.init: Rosetta version: PyRosetta4.MinSizeRel.python310.ubuntu r366 2024.01+release.00b79147e63 00b79147e63be743438188f93a3f069ca75106d6 http://www.pyrosetta.org 2023-12-25T16:35:48\n",
            "core.init: command: PyRosetta -ex1 -ex2aro -database /usr/local/lib/python3.10/dist-packages/pyrosetta/database\n",
            "basic.random.init_random_generator: 'RNG device' seed mode, using '/dev/urandom', seed=-347753527 seed_offset=0 real_seed=-347753527\n",
            "basic.random.init_random_generator: RandomGenerator:init: Normal mode, seed=-347753527 RG_type=mt19937\n"
          ]
        }
      ],
      "source": [
        "!pip install pyrosettacolabsetup\n",
        "import pyrosettacolabsetup; pyrosettacolabsetup.install_pyrosetta()\n",
        "import pyrosetta; pyrosetta.init()\n"
      ]
    },
    {
      "cell_type": "code",
      "execution_count": 2,
      "metadata": {
        "colab": {
          "base_uri": "https://localhost:8080/"
        },
        "id": "tzGngecx1fbI",
        "outputId": "8eedd564-e589-41d8-fb43-e037f1c647b2"
      },
      "outputs": [
        {
          "output_type": "stream",
          "name": "stdout",
          "text": [
            "PyRosetta-4 2023 [Rosetta PyRosetta4.MinSizeRel.python310.ubuntu 2024.01+release.00b79147e63be743438188f93a3f069ca75106d6 2023-12-25T16:35:48] retrieved from: http://www.pyrosetta.org\n",
            "(C) Copyright Rosetta Commons Member Institutions. Created in JHU by Sergey Lyskov and PyRosetta Team.\n",
            "core.init: Checking for fconfig files in pwd and ./rosetta/flags\n",
            "core.init: Rosetta version: PyRosetta4.MinSizeRel.python310.ubuntu r366 2024.01+release.00b79147e63 00b79147e63be743438188f93a3f069ca75106d6 http://www.pyrosetta.org 2023-12-25T16:35:48\n",
            "core.init: command: PyRosetta -ex1 -ex2aro -database /usr/local/lib/python3.10/dist-packages/pyrosetta/database\n",
            "basic.random.init_random_generator: 'RNG device' seed mode, using '/dev/urandom', seed=-115468345 seed_offset=0 real_seed=-115468345\n",
            "basic.random.init_random_generator: RandomGenerator:init: Normal mode, seed=-115468345 RG_type=mt19937\n"
          ]
        }
      ],
      "source": [
        "from pyrosetta import *\n",
        "init()"
      ]
    },
    {
      "cell_type": "markdown",
      "metadata": {
        "id": "hI11kq6o1fbI"
      },
      "source": [
        "## Loading in a PDB File ##"
      ]
    },
    {
      "cell_type": "markdown",
      "metadata": {
        "id": "XSk8i9-d1fbJ"
      },
      "source": [
        "Protein Data Bank (PDB) is a text file format for describing 3D molecular structures and other information. Rosetta can read in PDB files and can output them as well. In addition to PDB, mmTF and mmCIF are a couple other file formats that are used with Rosetta.\n",
        "\n",
        "We will spend some time today looking at the crystal structure for the protein **PafA** (PDB ID: 5tj3) using Pyrosetta. PafA is an alkaline phosphatase, which removes a phosphate group from a phosphate monoester. In this structure, a modified amino acid, phosphothreonine, is used to mimic the substrate in the active site. Let's load in this structure with PyRosetta (make sure that you have the PDB file located in your current directory):"
      ]
    },
    {
      "cell_type": "markdown",
      "metadata": {
        "id": "239jHeos1fbJ"
      },
      "source": [
        "`cd google_drive/MyDrive/student-notebooks/`\n",
        "\n",
        "\n",
        "`pose = pose_from_pdb(\"5tj3.pdb\")`\n",
        "\n",
        "\n",
        "\n",
        "Here we are inputting the PDB file using the `pose_from_pdb` method. However, we can also load this structure from the internet with `pose_from_rcsb(\"5TJ3\")`."
      ]
    },
    {
      "cell_type": "code",
      "source": [
        "%cd google_drive/MyDrive/JHU/Spring\\ 2024/Computational\\ Protein\\ Structure\\ and\\ Prediction/student-notebooks/"
      ],
      "metadata": {
        "colab": {
          "base_uri": "https://localhost:8080/"
        },
        "id": "66oSpppH2J9T",
        "outputId": "8e7002a2-e1a4-4fc5-dbe4-3dc44a7c919a"
      },
      "execution_count": 3,
      "outputs": [
        {
          "output_type": "stream",
          "name": "stdout",
          "text": [
            "/content/google_drive/MyDrive/JHU/Spring 2024/Computational Protein Structure and Prediction/student-notebooks\n"
          ]
        }
      ]
    },
    {
      "cell_type": "code",
      "execution_count": 6,
      "metadata": {
        "deletable": false,
        "nbgrader": {
          "cell_type": "code",
          "checksum": "9f72072ec371043dd2bb19b184006c02",
          "grade": true,
          "grade_id": "cell-690a147764ad96d7",
          "locked": false,
          "points": 0,
          "schema_version": 3,
          "solution": true
        },
        "colab": {
          "base_uri": "https://localhost:8080/"
        },
        "id": "RblW_cBz1fbJ",
        "outputId": "13db7923-22ea-45d0-bfa2-2a03d82fe964"
      },
      "outputs": [
        {
          "output_type": "stream",
          "name": "stdout",
          "text": [
            "core.import_pose.import_pose: File 'inputs/5tj3.pdb' automatically determined to be of type PDB\n",
            "core.conformation.Conformation: [ WARNING ] missing heavyatom:  CG  on residue LYS 233\n",
            "core.conformation.Conformation: [ WARNING ] missing heavyatom:  CD  on residue LYS 233\n",
            "core.conformation.Conformation: [ WARNING ] missing heavyatom:  CE  on residue LYS 233\n",
            "core.conformation.Conformation: [ WARNING ] missing heavyatom:  NZ  on residue LYS 233\n",
            "core.conformation.Conformation: [ WARNING ] missing heavyatom:  CG  on residue ASP 350\n",
            "core.conformation.Conformation: [ WARNING ] missing heavyatom:  OD1 on residue ASP 350\n",
            "core.conformation.Conformation: [ WARNING ] missing heavyatom:  OD2 on residue ASP 350\n",
            "core.conformation.Conformation: [ WARNING ] missing heavyatom:  CG  on residue LYS 353\n",
            "core.conformation.Conformation: [ WARNING ] missing heavyatom:  CD  on residue LYS 353\n",
            "core.conformation.Conformation: [ WARNING ] missing heavyatom:  CE  on residue LYS 353\n",
            "core.conformation.Conformation: [ WARNING ] missing heavyatom:  NZ  on residue LYS 353\n",
            "core.conformation.Conformation: [ WARNING ] missing heavyatom:  CG  on residue GLU 354\n",
            "core.conformation.Conformation: [ WARNING ] missing heavyatom:  CD  on residue GLU 354\n",
            "core.conformation.Conformation: [ WARNING ] missing heavyatom:  OE1 on residue GLU 354\n",
            "core.conformation.Conformation: [ WARNING ] missing heavyatom:  OE2 on residue GLU 354\n",
            "core.conformation.Conformation: [ WARNING ] missing heavyatom:  CG  on residue LYS 382\n",
            "core.conformation.Conformation: [ WARNING ] missing heavyatom:  CD  on residue LYS 382\n",
            "core.conformation.Conformation: [ WARNING ] missing heavyatom:  CE  on residue LYS 382\n",
            "core.conformation.Conformation: [ WARNING ] missing heavyatom:  NZ  on residue LYS 382\n",
            "core.conformation.Conformation: [ WARNING ] missing heavyatom:  CG  on residue TYR 454\n",
            "core.conformation.Conformation: [ WARNING ] missing heavyatom:  CD1 on residue TYR 454\n",
            "core.conformation.Conformation: [ WARNING ] missing heavyatom:  CD2 on residue TYR 454\n",
            "core.conformation.Conformation: [ WARNING ] missing heavyatom:  CE1 on residue TYR 454\n",
            "core.conformation.Conformation: [ WARNING ] missing heavyatom:  CE2 on residue TYR 454\n",
            "core.conformation.Conformation: [ WARNING ] missing heavyatom:  CZ  on residue TYR 454\n",
            "core.conformation.Conformation: [ WARNING ] missing heavyatom:  OH  on residue TYR 454\n",
            "core.conformation.Conformation: [ WARNING ] missing heavyatom:  OXT on residue GLY:CtermProteinFull 520\n",
            "core.pack.pack_missing_sidechains: packing residue number 233 because of missing atom number 6 atom name  CG\n",
            "core.pack.pack_missing_sidechains: packing residue number 350 because of missing atom number 6 atom name  CG\n",
            "core.pack.pack_missing_sidechains: packing residue number 353 because of missing atom number 6 atom name  CG\n",
            "core.pack.pack_missing_sidechains: packing residue number 354 because of missing atom number 6 atom name  CG\n",
            "core.pack.pack_missing_sidechains: packing residue number 382 because of missing atom number 6 atom name  CG\n",
            "core.pack.pack_missing_sidechains: packing residue number 454 because of missing atom number 6 atom name  CG\n",
            "core.pack.task: Packer task: initialize from command line()\n",
            "core.scoring.ScoreFunctionFactory: SCOREFUNCTION: ref2015\n",
            "core.scoring.etable: Starting energy table calculation\n",
            "core.scoring.etable: smooth_etable: changing atr/rep split to bottom of energy well\n",
            "core.scoring.etable: smooth_etable: spline smoothing lj etables (maxdis = 6)\n",
            "core.scoring.etable: smooth_etable: spline smoothing solvation etables (max_dis = 6)\n",
            "core.scoring.etable: Finished calculating energy tables.\n",
            "basic.io.database: Database file opened: scoring/score_functions/hbonds/ref2015_params/HBPoly1D.csv\n",
            "basic.io.database: Database file opened: scoring/score_functions/hbonds/ref2015_params/HBFadeIntervals.csv\n",
            "basic.io.database: Database file opened: scoring/score_functions/hbonds/ref2015_params/HBEval.csv\n",
            "basic.io.database: Database file opened: scoring/score_functions/hbonds/ref2015_params/DonStrength.csv\n",
            "basic.io.database: Database file opened: scoring/score_functions/hbonds/ref2015_params/AccStrength.csv\n",
            "basic.io.database: Database file opened: scoring/score_functions/rama/fd/all.ramaProb\n",
            "basic.io.database: Database file opened: scoring/score_functions/rama/fd/prepro.ramaProb\n",
            "basic.io.database: Database file opened: scoring/score_functions/omega/omega_ppdep.all.txt\n",
            "basic.io.database: Database file opened: scoring/score_functions/omega/omega_ppdep.gly.txt\n",
            "basic.io.database: Database file opened: scoring/score_functions/omega/omega_ppdep.pro.txt\n",
            "basic.io.database: Database file opened: scoring/score_functions/omega/omega_ppdep.valile.txt\n",
            "basic.io.database: Database file opened: scoring/score_functions/P_AA_pp/P_AA\n",
            "basic.io.database: Database file opened: scoring/score_functions/P_AA_pp/P_AA_n\n",
            "core.scoring.P_AA: shapovalov_lib::shap_p_aa_pp_smooth_level of 1( aka low_smooth ) got activated.\n",
            "basic.io.database: Database file opened: scoring/score_functions/P_AA_pp/shapovalov/10deg/kappa131/a20.prop\n",
            "basic.io.database: Database file opened: scoring/score_functions/elec_cp_reps.dat\n",
            "core.scoring.elec.util: Read 40 countpair representative atoms\n",
            "core.pack.dunbrack.RotamerLibrary: shapovalov_lib_fixes_enable option is true.\n",
            "core.pack.dunbrack.RotamerLibrary: shapovalov_lib::shap_dun10_smooth_level of 1( aka lowest_smooth ) got activated.\n",
            "core.pack.dunbrack.RotamerLibrary: Binary rotamer library selected: /usr/local/lib/python3.10/dist-packages/pyrosetta/database/rotamer/shapovalov/StpDwn_0-0-0/Dunbrack10.lib.bin\n",
            "core.pack.dunbrack.RotamerLibrary: Using Dunbrack library binary file '/usr/local/lib/python3.10/dist-packages/pyrosetta/database/rotamer/shapovalov/StpDwn_0-0-0/Dunbrack10.lib.bin'.\n",
            "core.pack.dunbrack.RotamerLibrary: Dunbrack 2010 library took 0.147448 seconds to load from binary\n",
            "core.pack.pack_rotamers: built 90 rotamers at 6 positions.\n",
            "core.pack.interaction_graph.interaction_graph_factory: Instantiating DensePDInteractionGraph\n"
          ]
        }
      ],
      "source": [
        "# YOUR CODE HERE\n",
        "pose = pose_from_pdb(\"inputs/5tj3.pdb\")"
      ]
    },
    {
      "cell_type": "markdown",
      "metadata": {
        "id": "SeHNp-N_1fbJ"
      },
      "source": [
        "## What is a Pose?"
      ]
    },
    {
      "cell_type": "markdown",
      "metadata": {
        "id": "47XKLoBE1fbJ"
      },
      "source": [
        "The Pose class includes various types of information that describe a structure. Some of the core components include the Energies, PDBInfo, and Conformation. See the Rosetta3 paper to learn more: https://www.sciencedirect.com/science/article/pii/B9780123812704000196\n",
        "\n",
        "As an example, let's use our pose to look at the sequence of 5TJ3:\n",
        "`pose.sequence()`"
      ]
    },
    {
      "cell_type": "code",
      "execution_count": 7,
      "metadata": {
        "deletable": false,
        "nbgrader": {
          "cell_type": "code",
          "checksum": "c1a8af383ad01ea635153b82575c2c1c",
          "grade": true,
          "grade_id": "cell-61e3c7efb8ae6b94",
          "locked": false,
          "points": 0,
          "schema_version": 3,
          "solution": true
        },
        "colab": {
          "base_uri": "https://localhost:8080/",
          "height": 70
        },
        "id": "-ByJztVy1fbK",
        "outputId": "e8c8a15e-c22f-4c48-816a-2ebf04606028"
      },
      "outputs": [
        {
          "output_type": "execute_result",
          "data": {
            "text/plain": [
              "'NAVPRPKLVVGLVVDQMRWDYLYRYYSKYGEGGFKRMLNTGYSLNNVHIDYVPTVTAIGHTSIFTGSVPSIHGIAGNDWYDKELGKSVYCTSDETVQPVGTTSNSVGQHSPRNLWSTTVTDQLGLATNFTSKVVGVSLKDRASILPAGHNPTGAFWFDDTTGKFITSTYYTKELPKWVNDFNNKNVPAQLVANGWNTLLPINQYTESSEDNVEWEGLLGSKKTPTFPYTDLAKDYEAKKGLIRTTPFGNTLTLQMADAAIDGNQMGVDDITDFLTVNLASTDYVGHNFGPNSIEVEDTYLRLDRDLADFFNNLDKKVGKGNYLVFLSADHGAAHSVGFMQAHKMPTGFFDMKKEMNAKLKQKFGADNIIAAAMNYQVYFDRKVLADSKLELDDVRDYVMTELKKEPSVLYVLSTDEIWESSIPEPIKSRVINGYNWKRSGDIQIISKDGYLSAYSKKGTTHSVWNSYDSHIPLLFMGWGIKQGESNQPYHMTDIAPTVSSLLKIQFPSGAVGKPITEVIGZZZZ'"
            ],
            "application/vnd.google.colaboratory.intrinsic+json": {
              "type": "string"
            }
          },
          "metadata": {},
          "execution_count": 7
        }
      ],
      "source": [
        "# print out the sequence of the pose\n",
        "# YOUR CODE HERE\n",
        "pose.sequence()"
      ]
    },
    {
      "cell_type": "markdown",
      "metadata": {
        "id": "sS0Yw1_v1fbK"
      },
      "source": [
        "Sometimes PDB files do not conform to standards and need to be cleaned to be loaded successfully with PyRosetta. One way to make sure the file is loaded successfully is to only include the ATOM lines from the PDB file. Alternatively, you could use the cleanATOM function in pyrosetta.toolbox to achieve the same:"
      ]
    },
    {
      "cell_type": "code",
      "execution_count": 8,
      "metadata": {
        "id": "S-2VYL2G1fbK"
      },
      "outputs": [],
      "source": [
        "from pyrosetta.toolbox import cleanATOM\n",
        "cleanATOM(\"inputs/5tj3.pdb\")"
      ]
    },
    {
      "cell_type": "markdown",
      "metadata": {
        "id": "pGz8Fz-Z1fbK"
      },
      "source": [
        "This method will create a cleaned 5tj3.clean.pdb file for you. Lets load this into PyRosetta as well:"
      ]
    },
    {
      "cell_type": "code",
      "execution_count": 9,
      "metadata": {
        "colab": {
          "base_uri": "https://localhost:8080/"
        },
        "id": "HRSvOX2c1fbL",
        "outputId": "9f795a3c-2727-4319-93f7-d3e0cb742ca5"
      },
      "outputs": [
        {
          "output_type": "stream",
          "name": "stdout",
          "text": [
            "core.import_pose.import_pose: File 'inputs/5tj3.clean.pdb' automatically determined to be of type PDB\n",
            "core.conformation.Conformation: [ WARNING ] missing heavyatom:  CG  on residue LYS 232\n",
            "core.conformation.Conformation: [ WARNING ] missing heavyatom:  CD  on residue LYS 232\n",
            "core.conformation.Conformation: [ WARNING ] missing heavyatom:  CE  on residue LYS 232\n",
            "core.conformation.Conformation: [ WARNING ] missing heavyatom:  NZ  on residue LYS 232\n",
            "core.conformation.Conformation: [ WARNING ] missing heavyatom:  CG  on residue ASP 349\n",
            "core.conformation.Conformation: [ WARNING ] missing heavyatom:  OD1 on residue ASP 349\n",
            "core.conformation.Conformation: [ WARNING ] missing heavyatom:  OD2 on residue ASP 349\n",
            "core.conformation.Conformation: [ WARNING ] missing heavyatom:  CG  on residue LYS 352\n",
            "core.conformation.Conformation: [ WARNING ] missing heavyatom:  CD  on residue LYS 352\n",
            "core.conformation.Conformation: [ WARNING ] missing heavyatom:  CE  on residue LYS 352\n",
            "core.conformation.Conformation: [ WARNING ] missing heavyatom:  NZ  on residue LYS 352\n",
            "core.conformation.Conformation: [ WARNING ] missing heavyatom:  CG  on residue GLU 353\n",
            "core.conformation.Conformation: [ WARNING ] missing heavyatom:  CD  on residue GLU 353\n",
            "core.conformation.Conformation: [ WARNING ] missing heavyatom:  OE1 on residue GLU 353\n",
            "core.conformation.Conformation: [ WARNING ] missing heavyatom:  OE2 on residue GLU 353\n",
            "core.conformation.Conformation: [ WARNING ] missing heavyatom:  CG  on residue LYS 381\n",
            "core.conformation.Conformation: [ WARNING ] missing heavyatom:  CD  on residue LYS 381\n",
            "core.conformation.Conformation: [ WARNING ] missing heavyatom:  CE  on residue LYS 381\n",
            "core.conformation.Conformation: [ WARNING ] missing heavyatom:  NZ  on residue LYS 381\n",
            "core.conformation.Conformation: [ WARNING ] missing heavyatom:  CG  on residue TYR 453\n",
            "core.conformation.Conformation: [ WARNING ] missing heavyatom:  CD1 on residue TYR 453\n",
            "core.conformation.Conformation: [ WARNING ] missing heavyatom:  CD2 on residue TYR 453\n",
            "core.conformation.Conformation: [ WARNING ] missing heavyatom:  CE1 on residue TYR 453\n",
            "core.conformation.Conformation: [ WARNING ] missing heavyatom:  CE2 on residue TYR 453\n",
            "core.conformation.Conformation: [ WARNING ] missing heavyatom:  CZ  on residue TYR 453\n",
            "core.conformation.Conformation: [ WARNING ] missing heavyatom:  OH  on residue TYR 453\n",
            "core.conformation.Conformation: [ WARNING ] missing heavyatom:  OXT on residue GLY:CtermProteinFull 519\n",
            "core.pack.pack_missing_sidechains: packing residue number 232 because of missing atom number 6 atom name  CG\n",
            "core.pack.pack_missing_sidechains: packing residue number 349 because of missing atom number 6 atom name  CG\n",
            "core.pack.pack_missing_sidechains: packing residue number 352 because of missing atom number 6 atom name  CG\n",
            "core.pack.pack_missing_sidechains: packing residue number 353 because of missing atom number 6 atom name  CG\n",
            "core.pack.pack_missing_sidechains: packing residue number 381 because of missing atom number 6 atom name  CG\n",
            "core.pack.pack_missing_sidechains: packing residue number 453 because of missing atom number 6 atom name  CG\n",
            "core.pack.task: Packer task: initialize from command line()\n",
            "core.scoring.ScoreFunctionFactory: SCOREFUNCTION: ref2015\n",
            "core.pack.pack_rotamers: built 90 rotamers at 6 positions.\n",
            "core.pack.interaction_graph.interaction_graph_factory: Instantiating DensePDInteractionGraph\n"
          ]
        }
      ],
      "source": [
        "pose_clean = pose_from_pdb(\"inputs/5tj3.clean.pdb\")"
      ]
    },
    {
      "cell_type": "markdown",
      "metadata": {
        "id": "slHjfPsr1fbL"
      },
      "source": [
        "In our case, we could load in the PDB file for 5tj3 without cleaning it. In fact, we've lost some residues when cleaning the PDB file with cleanATOM. What is the difference in the `sequence` of the `pose_clean` now, compared to before?"
      ]
    },
    {
      "cell_type": "code",
      "execution_count": 10,
      "metadata": {
        "deletable": false,
        "nbgrader": {
          "cell_type": "code",
          "checksum": "231cd82955cb98d2285eaad2d1fc5df8",
          "grade": true,
          "grade_id": "cell-57e06ba64f052592",
          "locked": false,
          "points": 0,
          "schema_version": 3,
          "solution": true
        },
        "colab": {
          "base_uri": "https://localhost:8080/",
          "height": 70
        },
        "id": "i__kN0Dv1fbL",
        "outputId": "5a62438f-3646-4da5-e0ef-105297f51c80"
      },
      "outputs": [
        {
          "output_type": "execute_result",
          "data": {
            "text/plain": [
              "'NAVPRPKLVVGLVVDQMRWDYLYRYYSKYGEGGFKRMLNTGYSLNNVHIDYVPTVAIGHTSIFTGSVPSIHGIAGNDWYDKELGKSVYCTSDETVQPVGTTSNSVGQHSPRNLWSTTVTDQLGLATNFTSKVVGVSLKDRASILPAGHNPTGAFWFDDTTGKFITSTYYTKELPKWVNDFNNKNVPAQLVANGWNTLLPINQYTESSEDNVEWEGLLGSKKTPTFPYTDLAKDYEAKKGLIRTTPFGNTLTLQMADAAIDGNQMGVDDITDFLTVNLASTDYVGHNFGPNSIEVEDTYLRLDRDLADFFNNLDKKVGKGNYLVFLSADHGAAHSVGFMQAHKMPTGFFDMKKEMNAKLKQKFGADNIIAAAMNYQVYFDRKVLADSKLELDDVRDYVMTELKKEPSVLYVLSTDEIWESSIPEPIKSRVINGYNWKRSGDIQIISKDGYLSAYSKKGTTHSVWNSYDSHIPLLFMGWGIKQGESNQPYHMTDIAPTVSSLLKIQFPSGAVGKPITEVIG'"
            ],
            "application/vnd.google.colaboratory.intrinsic+json": {
              "type": "string"
            }
          },
          "metadata": {},
          "execution_count": 10
        }
      ],
      "source": [
        "# print out the sequence of the pose_clean\n",
        "# YOUR CODE HERE\n",
        "pose_clean.sequence()"
      ]
    },
    {
      "cell_type": "markdown",
      "metadata": {
        "id": "0CWzBQsk1fbL"
      },
      "source": [
        "With the function `annotated_sequence` below, we can start to see in more detail what the differences are. Note that non-canonical amino acids and hetatms are spelled out more explicitly now."
      ]
    },
    {
      "cell_type": "code",
      "execution_count": 11,
      "metadata": {
        "colab": {
          "base_uri": "https://localhost:8080/",
          "height": 70
        },
        "id": "RAF0rrCQ1fbL",
        "outputId": "44c0fa70-b5ad-41d9-f3d2-9e8736623bd3"
      },
      "outputs": [
        {
          "output_type": "execute_result",
          "data": {
            "text/plain": [
              "'N[ASN:NtermProteinFull]AVPRPKLVVGLVVDQMRWDYLYRYYSKYGEGGFKRMLNTGYSLNNVHIDYVPTVT[THR:phosphorylated]AIGHTSIFTGSVPSIHGIAGNDWYDKELGKSVYCTSDETVQPVGTTSNSVGQHSPRNLWSTTVTDQLGLATNFTSKVVGVSLKDRASILPAGHNPTGAFWFDDTTGKFITSTYYTKELPKWVNDFNNKNVPAQLVANGWNTLLPINQYTESSEDNVEWEGLLGSKKTPTFPYTDLAKDYEAKKGLIRTTPFGNTLTLQMADAAIDGNQMGVDDITDFLTVNLASTDYVGHNFGPNSIEVEDTYLRLDRDLADFFNNLDKKVGKGNYLVFLSADHGAAHSVGFMQAHKMPTGFFDMKKEMNAKLKQKFGADNIIAAAMNYQVYFDRKVLADSKLELDDVRDYVMTELKKEPSVLYVLSTDEIWESSIPEPIKSRVINGYNWKRSGDIQIISKDGYLSAYSKKGTTHSVWNSYDSHIPLLFMGWGIKQGESNQPYHMTDIAPTVSSLLKIQFPSGAVGKPITEVIG[GLY:CtermProteinFull]Z[ZN]Z[ZN]Z[ZN]Z[ZN]'"
            ],
            "application/vnd.google.colaboratory.intrinsic+json": {
              "type": "string"
            }
          },
          "metadata": {},
          "execution_count": 11
        }
      ],
      "source": [
        "pose.annotated_sequence()"
      ]
    },
    {
      "cell_type": "code",
      "execution_count": 12,
      "metadata": {
        "colab": {
          "base_uri": "https://localhost:8080/",
          "height": 70
        },
        "id": "6oOVKWUL1fbL",
        "outputId": "29f696a1-f164-4aa8-e51b-573058c8e187"
      },
      "outputs": [
        {
          "output_type": "execute_result",
          "data": {
            "text/plain": [
              "'N[ASN:NtermProteinFull]AVPRPKLVVGLVVDQMRWDYLYRYYSKYGEGGFKRMLNTGYSLNNVHIDYVPTVAIGHTSIFTGSVPSIHGIAGNDWYDKELGKSVYCTSDETVQPVGTTSNSVGQHSPRNLWSTTVTDQLGLATNFTSKVVGVSLKDRASILPAGHNPTGAFWFDDTTGKFITSTYYTKELPKWVNDFNNKNVPAQLVANGWNTLLPINQYTESSEDNVEWEGLLGSKKTPTFPYTDLAKDYEAKKGLIRTTPFGNTLTLQMADAAIDGNQMGVDDITDFLTVNLASTDYVGHNFGPNSIEVEDTYLRLDRDLADFFNNLDKKVGKGNYLVFLSADHGAAHSVGFMQAHKMPTGFFDMKKEMNAKLKQKFGADNIIAAAMNYQVYFDRKVLADSKLELDDVRDYVMTELKKEPSVLYVLSTDEIWESSIPEPIKSRVINGYNWKRSGDIQIISKDGYLSAYSKKGTTHSVWNSYDSHIPLLFMGWGIKQGESNQPYHMTDIAPTVSSLLKIQFPSGAVGKPITEVIG[GLY:CtermProteinFull]'"
            ],
            "application/vnd.google.colaboratory.intrinsic+json": {
              "type": "string"
            }
          },
          "metadata": {},
          "execution_count": 12
        }
      ],
      "source": [
        "pose_clean.annotated_sequence()"
      ]
    },
    {
      "cell_type": "markdown",
      "metadata": {
        "id": "5STDrkG41fbL"
      },
      "source": [
        "### Exercise 1: Inspecting pose sequences\n",
        "\n",
        "Visually inspect the sequences to find the difference(s) between the `pose_clean.sequence()` and `pose.sequence()`. Were residues removed? Which ones?"
      ]
    },
    {
      "cell_type": "code",
      "execution_count": null,
      "metadata": {
        "id": "xFffR83f1fbM"
      },
      "outputs": [],
      "source": []
    },
    {
      "cell_type": "markdown",
      "metadata": {
        "id": "XKp8Lw0W1fbM"
      },
      "source": [
        "### Bonus Exercise 1: Identifying differences in sequences\n",
        "\n",
        "(Optional) Write a program to automatically find the differences between these two sequences"
      ]
    },
    {
      "cell_type": "code",
      "execution_count": null,
      "metadata": {
        "id": "MnfA1c8k1fbM"
      },
      "outputs": [],
      "source": []
    },
    {
      "cell_type": "markdown",
      "metadata": {
        "id": "EyD5Cd2R1fbM"
      },
      "source": [
        "<!--NAVIGATION-->\n",
        "< [Introduction to PyRosetta](http://nbviewer.jupyter.org/github/RosettaCommons/PyRosetta.notebooks/blob/master/notebooks/02.00-Introduction-to-PyRosetta.ipynb) | [Contents](toc.ipynb) | [Index](index.ipynb) | [Working with Pose residues](http://nbviewer.jupyter.org/github/RosettaCommons/PyRosetta.notebooks/blob/master/notebooks/02.02-Working-with-Pose-Residues.ipynb) ><p><a href=\"https://colab.research.google.com/github/RosettaCommons/PyRosetta.notebooks/blob/master/notebooks/02.01-Pose-Basics.ipynb\"><img align=\"left\" src=\"https://colab.research.google.com/assets/colab-badge.svg\" alt=\"Open in Colab\" title=\"Open in Google Colaboratory\"></a>"
      ]
    }
  ],
  "metadata": {
    "kernelspec": {
      "display_name": "Python 3",
      "language": "python",
      "name": "python3"
    },
    "language_info": {
      "codemirror_mode": {
        "name": "ipython",
        "version": 3
      },
      "file_extension": ".py",
      "mimetype": "text/x-python",
      "name": "python",
      "nbconvert_exporter": "python",
      "pygments_lexer": "ipython3",
      "version": "3.6.0"
    },
    "toc": {
      "base_numbering": 1,
      "nav_menu": {},
      "number_sections": true,
      "sideBar": true,
      "skip_h1_title": false,
      "title_cell": "Table of Contents",
      "title_sidebar": "Contents",
      "toc_cell": false,
      "toc_position": {
        "height": "470px",
        "left": "48px",
        "top": "110px",
        "width": "267.984px"
      },
      "toc_section_display": true,
      "toc_window_display": true
    },
    "colab": {
      "provenance": [],
      "include_colab_link": true
    }
  },
  "nbformat": 4,
  "nbformat_minor": 0
}